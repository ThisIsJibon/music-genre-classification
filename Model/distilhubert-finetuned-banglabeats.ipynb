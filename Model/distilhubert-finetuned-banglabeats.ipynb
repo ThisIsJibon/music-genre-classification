{
  "metadata": {
    "kernelspec": {
      "language": "python",
      "display_name": "Python 3",
      "name": "python3"
    },
    "language_info": {
      "name": "python",
      "version": "3.10.12",
      "mimetype": "text/x-python",
      "codemirror_mode": {
        "name": "ipython",
        "version": 3
      },
      "pygments_lexer": "ipython3",
      "nbconvert_exporter": "python",
      "file_extension": ".py"
    },
    "kaggle": {
      "accelerator": "gpu",
      "dataSources": [],
      "dockerImageVersionId": 30559,
      "isInternetEnabled": true,
      "language": "python",
      "sourceType": "notebook",
      "isGpuEnabled": true
    },
    "colab": {
      "provenance": []
    }
  },
  "nbformat_minor": 0,
  "nbformat": 4,
  "cells": [
    {
      "cell_type": "code",
      "source": [
        "from datasets import load_dataset\n",
        "gtzan = load_dataset(\"thisisjibon/banglabeats\", \"all\")\n",
        "gtzan = gtzan[\"train\"].train_test_split(seed=42, shuffle=True, test_size=0.1)\n",
        "gtzan[\"train\"][0]\n",
        "\n",
        "id2label_fn = gtzan[\"train\"].features[\"genre\"].int2str\n",
        "id2label_fn(gtzan[\"train\"][0][\"genre\"])"
      ],
      "metadata": {
        "_uuid": "8f2839f25d086af736a60e9eeb907d3b93b6e0e5",
        "_cell_guid": "b1076dfc-b9ad-4769-8c92-a6c4dae69d19",
        "execution": {
          "iopub.status.busy": "2023-09-13T17:56:46.651884Z",
          "iopub.execute_input": "2023-09-13T17:56:46.652279Z",
          "iopub.status.idle": "2023-09-13T17:56:47.529258Z",
          "shell.execute_reply.started": "2023-09-13T17:56:46.652248Z",
          "shell.execute_reply": "2023-09-13T17:56:47.528457Z"
        },
        "trusted": true,
        "id": "TV4qOmZ-kR4C",
        "outputId": "39ea2a53-5914-4d20-c8a9-8abb0ce80775",
        "colab": {
          "referenced_widgets": [
            "53e73a7d9ad74bb8915a6f38ac1f1902"
          ]
        }
      },
      "execution_count": null,
      "outputs": [
        {
          "output_type": "display_data",
          "data": {
            "text/plain": "  0%|          | 0/1 [00:00<?, ?it/s]",
            "application/vnd.jupyter.widget-view+json": {
              "version_major": 2,
              "version_minor": 0,
              "model_id": "53e73a7d9ad74bb8915a6f38ac1f1902"
            }
          },
          "metadata": {}
        },
        {
          "execution_count": 41,
          "output_type": "execute_result",
          "data": {
            "text/plain": "'Indie'"
          },
          "metadata": {}
        }
      ]
    },
    {
      "cell_type": "code",
      "source": [],
      "metadata": {
        "trusted": true,
        "id": "FPcBVWTYkR4H"
      },
      "execution_count": null,
      "outputs": []
    },
    {
      "cell_type": "code",
      "source": [
        "from transformers import AutoFeatureExtractor\n",
        "\n",
        "model_id = \"ntu-spml/distilhubert\"\n",
        "feature_extractor = AutoFeatureExtractor.from_pretrained(\n",
        "    model_id, do_normalize=True, return_attention_mask=True\n",
        ")\n",
        "\n",
        "sampling_rate = feature_extractor.sampling_rate\n",
        "sampling_rate"
      ],
      "metadata": {
        "execution": {
          "iopub.status.busy": "2023-09-13T17:56:47.534347Z",
          "iopub.execute_input": "2023-09-13T17:56:47.535106Z",
          "iopub.status.idle": "2023-09-13T17:56:47.666141Z",
          "shell.execute_reply.started": "2023-09-13T17:56:47.535038Z",
          "shell.execute_reply": "2023-09-13T17:56:47.665362Z"
        },
        "trusted": true,
        "id": "nhsm6q47kR4I",
        "outputId": "2b3d5767-9c67-4352-96eb-4e3f556e9ec9"
      },
      "execution_count": null,
      "outputs": [
        {
          "execution_count": 42,
          "output_type": "execute_result",
          "data": {
            "text/plain": "16000"
          },
          "metadata": {}
        }
      ]
    },
    {
      "cell_type": "code",
      "source": [
        "from datasets import Audio\n",
        "gtzan = gtzan.cast_column(\"audio\", Audio(sampling_rate=sampling_rate))\n",
        "\n",
        "gtzan[\"train\"][0]"
      ],
      "metadata": {
        "execution": {
          "iopub.status.busy": "2023-09-13T17:56:47.670862Z",
          "iopub.execute_input": "2023-09-13T17:56:47.673624Z",
          "iopub.status.idle": "2023-09-13T17:56:47.694766Z",
          "shell.execute_reply.started": "2023-09-13T17:56:47.673586Z",
          "shell.execute_reply": "2023-09-13T17:56:47.693998Z"
        },
        "trusted": true,
        "id": "LmKTYpTxkR4K",
        "outputId": "9a6e4984-d28e-4e2a-d3d7-79e07d784f86"
      },
      "execution_count": null,
      "outputs": [
        {
          "execution_count": 43,
          "output_type": "execute_result",
          "data": {
            "text/plain": "{'file': '/root/.cache/huggingface/datasets/downloads/extracted/2af8452ed4cff3e02efc93bd9c55c02052463d3235a482097cea1b80c323bb44/wavs3sec/Indie/1599.wav',\n 'audio': {'path': '/root/.cache/huggingface/datasets/downloads/extracted/2af8452ed4cff3e02efc93bd9c55c02052463d3235a482097cea1b80c323bb44/wavs3sec/Indie/1599.wav',\n  'array': array([-0.0131646 , -0.02055288, -0.01401616, ..., -0.31587178,\n         -0.31501222, -0.30590048], dtype=float32),\n  'sampling_rate': 16000},\n 'genre': 3}"
          },
          "metadata": {}
        }
      ]
    },
    {
      "cell_type": "code",
      "source": [
        "import numpy as np\n",
        "sample = gtzan[\"train\"][0][\"audio\"]\n",
        "print(f\"Mean: {np.mean(sample['array']):.3}, Variance: {np.var(sample['array']):.3}\")"
      ],
      "metadata": {
        "execution": {
          "iopub.status.busy": "2023-09-13T17:56:47.700631Z",
          "iopub.execute_input": "2023-09-13T17:56:47.702293Z",
          "iopub.status.idle": "2023-09-13T17:56:47.717002Z",
          "shell.execute_reply.started": "2023-09-13T17:56:47.702257Z",
          "shell.execute_reply": "2023-09-13T17:56:47.715551Z"
        },
        "trusted": true,
        "id": "GpyXi7_KkR4L"
      },
      "execution_count": null,
      "outputs": []
    },
    {
      "cell_type": "code",
      "source": [
        "inputs = feature_extractor(sample[\"array\"], sampling_rate=sample[\"sampling_rate\"])\n",
        "print(f\"inputs keys: {list(inputs.keys())}\")\n",
        "print(\n",
        "    f\"Mean: {np.mean(inputs['input_values']):.3}, Variance: {np.var(inputs['input_values']):.3}\"\n",
        ")\n"
      ],
      "metadata": {
        "execution": {
          "iopub.status.busy": "2023-09-13T17:56:47.718327Z",
          "iopub.execute_input": "2023-09-13T17:56:47.718951Z",
          "iopub.status.idle": "2023-09-13T17:56:47.729256Z",
          "shell.execute_reply.started": "2023-09-13T17:56:47.718916Z",
          "shell.execute_reply": "2023-09-13T17:56:47.728327Z"
        },
        "trusted": true,
        "id": "XkgSAeutkR4M"
      },
      "execution_count": null,
      "outputs": []
    },
    {
      "cell_type": "code",
      "source": [
        "from pydub import AudioSegment\n",
        "def downmix_audio(audio_array):\n",
        "    # Convert stereo audio to mono\n",
        "    stereo_audio = AudioSegment.from_numpy(audio_array)\n",
        "    mono_audio = stereo_audio.set_channels(1)\n",
        "    return mono_audio.to_numpy()"
      ],
      "metadata": {
        "execution": {
          "iopub.status.busy": "2023-09-13T17:56:47.731556Z",
          "iopub.execute_input": "2023-09-13T17:56:47.731909Z",
          "iopub.status.idle": "2023-09-13T17:56:47.743675Z",
          "shell.execute_reply.started": "2023-09-13T17:56:47.731872Z",
          "shell.execute_reply": "2023-09-13T17:56:47.742574Z"
        },
        "trusted": true,
        "id": "ZCmfotL_kR4N"
      },
      "execution_count": null,
      "outputs": []
    },
    {
      "cell_type": "code",
      "source": [
        "max_duration = 3.0\n",
        "\n",
        "def preprocess_function(examples):\n",
        "    audio_arrays = [x[\"array\"] for x in examples[\"audio\"]]\n",
        "    inputs = feature_extractor(\n",
        "        audio_arrays,\n",
        "        sampling_rate=feature_extractor.sampling_rate,\n",
        "        max_length=int(feature_extractor.sampling_rate * max_duration),\n",
        "        truncation=True,\n",
        "        return_attention_mask=True,\n",
        "    )\n",
        "    return inputs\n",
        "\n",
        "gtzan_encoded = gtzan.map(\n",
        "    preprocess_function,\n",
        "    remove_columns=[\"audio\", \"file\"],\n",
        "    batched=True,\n",
        "    batch_size=100,\n",
        "    num_proc=1,\n",
        ")\n",
        "gtzan_encoded"
      ],
      "metadata": {
        "execution": {
          "iopub.status.busy": "2023-09-13T17:56:47.748995Z",
          "iopub.execute_input": "2023-09-13T17:56:47.749693Z",
          "iopub.status.idle": "2023-09-13T17:58:41.310782Z",
          "shell.execute_reply.started": "2023-09-13T17:56:47.749551Z",
          "shell.execute_reply": "2023-09-13T17:58:41.309875Z"
        },
        "trusted": true,
        "id": "SR1QWsEdkR4N",
        "outputId": "b37ce069-bb5a-4981-8c59-c10d53fc08ee",
        "colab": {
          "referenced_widgets": [
            "8180d151326a40b99c1f7e15f3308a0c",
            "373e05270ad04621829eb1dc80da075d"
          ]
        }
      },
      "execution_count": null,
      "outputs": [
        {
          "output_type": "display_data",
          "data": {
            "text/plain": "  0%|          | 0/146 [00:00<?, ?ba/s]",
            "application/vnd.jupyter.widget-view+json": {
              "version_major": 2,
              "version_minor": 0,
              "model_id": "8180d151326a40b99c1f7e15f3308a0c"
            }
          },
          "metadata": {}
        },
        {
          "output_type": "display_data",
          "data": {
            "text/plain": "  0%|          | 0/17 [00:00<?, ?ba/s]",
            "application/vnd.jupyter.widget-view+json": {
              "version_major": 2,
              "version_minor": 0,
              "model_id": "373e05270ad04621829eb1dc80da075d"
            }
          },
          "metadata": {}
        },
        {
          "execution_count": 47,
          "output_type": "execute_result",
          "data": {
            "text/plain": "DatasetDict({\n    train: Dataset({\n        features: ['genre', 'input_values', 'attention_mask'],\n        num_rows: 14553\n    })\n    test: Dataset({\n        features: ['genre', 'input_values', 'attention_mask'],\n        num_rows: 1617\n    })\n})"
          },
          "metadata": {}
        }
      ]
    },
    {
      "cell_type": "code",
      "source": [
        "gtzan_encoded = gtzan_encoded.rename_column(\"genre\", \"label\")\n",
        "id2label = {\n",
        "    str(i): id2label_fn(i)\n",
        "    for i in range(len(gtzan_encoded[\"train\"].features[\"label\"].names))\n",
        "}\n",
        "label2id = {v: k for k, v in id2label.items()}\n",
        "id2label[\"7\"]"
      ],
      "metadata": {
        "execution": {
          "iopub.status.busy": "2023-09-13T17:58:41.315515Z",
          "iopub.execute_input": "2023-09-13T17:58:41.318552Z",
          "iopub.status.idle": "2023-09-13T17:58:41.334580Z",
          "shell.execute_reply.started": "2023-09-13T17:58:41.318512Z",
          "shell.execute_reply": "2023-09-13T17:58:41.333699Z"
        },
        "trusted": true,
        "id": "ExjtxUaPkR4P",
        "outputId": "4b142e6a-198e-48f6-c442-ba4ae24a3c72"
      },
      "execution_count": null,
      "outputs": [
        {
          "execution_count": 48,
          "output_type": "execute_result",
          "data": {
            "text/plain": "'Rock'"
          },
          "metadata": {}
        }
      ]
    },
    {
      "cell_type": "code",
      "source": [
        "from transformers import AutoModelForAudioClassification\n",
        "num_labels = len(id2label)\n",
        "model = AutoModelForAudioClassification.from_pretrained(\n",
        "    model_id,\n",
        "    num_labels=num_labels,\n",
        "    label2id=label2id,\n",
        "    id2label=id2label,\n",
        ")"
      ],
      "metadata": {
        "execution": {
          "iopub.status.busy": "2023-09-13T17:58:41.340041Z",
          "iopub.execute_input": "2023-09-13T17:58:41.340818Z",
          "iopub.status.idle": "2023-09-13T17:58:44.595563Z",
          "shell.execute_reply.started": "2023-09-13T17:58:41.340782Z",
          "shell.execute_reply": "2023-09-13T17:58:44.591134Z"
        },
        "trusted": true,
        "id": "e7P7Z_M2kR4R",
        "outputId": "fda053ed-7715-4418-e4c3-481d92144bb7"
      },
      "execution_count": null,
      "outputs": [
        {
          "name": "stderr",
          "text": "Some weights of HubertForSequenceClassification were not initialized from the model checkpoint at ntu-spml/distilhubert and are newly initialized: ['classifier.weight', 'projector.bias', 'classifier.bias', 'projector.weight']\nYou should probably TRAIN this model on a down-stream task to be able to use it for predictions and inference.\n",
          "output_type": "stream"
        }
      ]
    },
    {
      "cell_type": "code",
      "source": [
        "from huggingface_hub import notebook_login\n",
        "notebook_login()"
      ],
      "metadata": {
        "execution": {
          "iopub.status.busy": "2023-09-13T17:58:44.600654Z",
          "iopub.execute_input": "2023-09-13T17:58:44.601353Z",
          "iopub.status.idle": "2023-09-13T17:58:44.639793Z",
          "shell.execute_reply.started": "2023-09-13T17:58:44.601313Z",
          "shell.execute_reply": "2023-09-13T17:58:44.639143Z"
        },
        "trusted": true,
        "id": "f836rTNfkR4S",
        "outputId": "0f6d0ddb-217d-444e-d2bf-6409d1c99845",
        "colab": {
          "referenced_widgets": [
            "ff5e0d1cfb3d42ce9d0a414377192ddb"
          ]
        }
      },
      "execution_count": null,
      "outputs": [
        {
          "output_type": "display_data",
          "data": {
            "text/plain": "VBox(children=(HTML(value='<center> <img\\nsrc=https://huggingface.co/front/assets/huggingface_logo-noborder.sv…",
            "application/vnd.jupyter.widget-view+json": {
              "version_major": 2,
              "version_minor": 0,
              "model_id": "ff5e0d1cfb3d42ce9d0a414377192ddb"
            }
          },
          "metadata": {}
        }
      ]
    },
    {
      "cell_type": "markdown",
      "source": [],
      "metadata": {
        "id": "5QXgbfWTkR4U"
      }
    },
    {
      "cell_type": "code",
      "source": [
        "from transformers import TrainingArguments\n",
        "\n",
        "model_name = model_id.split(\"/\")[-1]\n",
        "batch_size = 8\n",
        "gradient_accumulation_steps = 2\n",
        "num_train_epochs = 20\n",
        "\n",
        "training_args = TrainingArguments(\n",
        "    f\"{model_name}-finetuned-banglabeats\",\n",
        "    evaluation_strategy=\"epoch\",\n",
        "    save_strategy=\"epoch\",\n",
        "    learning_rate=6e-5,\n",
        "    per_device_train_batch_size=batch_size,\n",
        "    gradient_accumulation_steps=gradient_accumulation_steps,\n",
        "    per_device_eval_batch_size=batch_size,\n",
        "    num_train_epochs=num_train_epochs,\n",
        "    weight_decay=0.02,\n",
        "    warmup_ratio=0.1,\n",
        "    logging_steps=5,\n",
        "    load_best_model_at_end=True,\n",
        "    metric_for_best_model=\"accuracy\",\n",
        "    fp16=True,\n",
        "    seed=42,\n",
        "    push_to_hub=True,\n",
        ")\n",
        "\n",
        "\n",
        "# from transformers import TrainingArguments\n",
        "\n",
        "# model_name = model_id.split(\"/\")[-1]\n",
        "# batch_size = 4  # Change to 4 as specified\n",
        "# gradient_accumulation_steps = 2\n",
        "# num_train_epochs = 20  # Change to 18 as specified\n",
        "\n",
        "# training_args = TrainingArguments(\n",
        "#     f\"{model_name}-finetuned-banglabeats\",\n",
        "#     evaluation_strategy=\"epoch\",\n",
        "#     save_strategy=\"epoch\",\n",
        "#     learning_rate=5e-5,\n",
        "#     per_device_train_batch_size=batch_size,\n",
        "#     gradient_accumulation_steps=gradient_accumulation_steps,\n",
        "#     per_device_eval_batch_size=batch_size,\n",
        "#     num_train_epochs=num_train_epochs,\n",
        "#     warmup_ratio=0.1,\n",
        "#     logging_steps=5,\n",
        "#     load_best_model_at_end=True,\n",
        "#     metric_for_best_model=\"accuracy\",\n",
        "#     lr_scheduler_type=\"linear\",\n",
        "#     fp16=True,\n",
        "#     push_to_hub=True,\n",
        "#     save_total_limit=1,  # Limit the number of checkpoint saves to save disk space\n",
        "# )\n"
      ],
      "metadata": {
        "execution": {
          "iopub.status.busy": "2023-09-13T17:58:44.641233Z",
          "iopub.execute_input": "2023-09-13T17:58:44.641799Z",
          "iopub.status.idle": "2023-09-13T17:58:44.664142Z",
          "shell.execute_reply.started": "2023-09-13T17:58:44.641763Z",
          "shell.execute_reply": "2023-09-13T17:58:44.663137Z"
        },
        "trusted": true,
        "id": "Me_Rk9UokR4V"
      },
      "execution_count": null,
      "outputs": []
    },
    {
      "cell_type": "code",
      "source": [
        "! pip install -q gradio transformers datasets[audio] accelerate evaluate wandb"
      ],
      "metadata": {
        "execution": {
          "iopub.status.busy": "2023-09-13T17:58:44.668985Z",
          "iopub.execute_input": "2023-09-13T17:58:44.670010Z",
          "iopub.status.idle": "2023-09-13T17:58:58.569608Z",
          "shell.execute_reply.started": "2023-09-13T17:58:44.669978Z",
          "shell.execute_reply": "2023-09-13T17:58:58.568336Z"
        },
        "trusted": true,
        "id": "qs_QKflRkR4W"
      },
      "execution_count": null,
      "outputs": []
    },
    {
      "cell_type": "code",
      "source": [
        "import evaluate\n",
        "import numpy as np\n",
        "metric = evaluate.load(\"accuracy\")\n",
        "def compute_metrics(eval_pred):\n",
        "    \"\"\"Computes accuracy on a batch of predictions\"\"\"\n",
        "    predictions = np.argmax(eval_pred.predictions, axis=1)\n",
        "    return metric.compute(predictions=predictions, references=eval_pred.label_ids)\n",
        "\n"
      ],
      "metadata": {
        "execution": {
          "iopub.status.busy": "2023-09-13T17:58:58.571994Z",
          "iopub.execute_input": "2023-09-13T17:58:58.572680Z",
          "iopub.status.idle": "2023-09-13T17:58:59.181927Z",
          "shell.execute_reply.started": "2023-09-13T17:58:58.572632Z",
          "shell.execute_reply": "2023-09-13T17:58:59.181130Z"
        },
        "trusted": true,
        "id": "ADbYmTT1kR4W"
      },
      "execution_count": null,
      "outputs": []
    },
    {
      "cell_type": "code",
      "source": [
        "from transformers import Trainer\n",
        "trainer = Trainer(\n",
        "    model,\n",
        "    training_args,\n",
        "    train_dataset=gtzan_encoded[\"train\"],\n",
        "    eval_dataset=gtzan_encoded[\"test\"],\n",
        "    tokenizer=feature_extractor,\n",
        "    compute_metrics=compute_metrics,\n",
        ")\n",
        "trainer.train()"
      ],
      "metadata": {
        "execution": {
          "iopub.status.busy": "2023-09-13T17:58:59.183573Z",
          "iopub.execute_input": "2023-09-13T17:58:59.184145Z",
          "iopub.status.idle": "2023-09-14T01:55:33.710891Z",
          "shell.execute_reply.started": "2023-09-13T17:58:59.184110Z",
          "shell.execute_reply": "2023-09-14T01:55:33.710041Z"
        },
        "trusted": true,
        "id": "5OlR6vDVkR4W",
        "outputId": "e0b9b642-458a-4d8f-9671-c6e33943fc9f"
      },
      "execution_count": null,
      "outputs": [
        {
          "output_type": "display_data",
          "data": {
            "text/plain": "<IPython.core.display.HTML object>",
            "text/html": "\n    <div>\n      \n      <progress value='18200' max='18200' style='width:300px; height:20px; vertical-align: middle;'></progress>\n      [18200/18200 7:56:22, Epoch 20/20]\n    </div>\n    <table border=\"1\" class=\"dataframe\">\n  <thead>\n <tr style=\"text-align: left;\">\n      <th>Epoch</th>\n      <th>Training Loss</th>\n      <th>Validation Loss</th>\n      <th>Accuracy</th>\n    </tr>\n  </thead>\n  <tbody>\n    <tr>\n      <td>1</td>\n      <td>0.943900</td>\n      <td>0.927364</td>\n      <td>0.642548</td>\n    </tr>\n    <tr>\n      <td>2</td>\n      <td>0.854000</td>\n      <td>0.749769</td>\n      <td>0.726036</td>\n    </tr>\n    <tr>\n      <td>3</td>\n      <td>0.483500</td>\n      <td>0.632925</td>\n      <td>0.770563</td>\n    </tr>\n    <tr>\n      <td>4</td>\n      <td>0.622600</td>\n      <td>0.615927</td>\n      <td>0.793445</td>\n    </tr>\n    <tr>\n      <td>5</td>\n      <td>0.456000</td>\n      <td>0.711775</td>\n      <td>0.797155</td>\n    </tr>\n    <tr>\n      <td>6</td>\n      <td>0.056500</td>\n      <td>0.799352</td>\n      <td>0.805195</td>\n    </tr>\n    <tr>\n      <td>7</td>\n      <td>0.260500</td>\n      <td>0.973516</td>\n      <td>0.815090</td>\n    </tr>\n    <tr>\n      <td>8</td>\n      <td>0.363500</td>\n      <td>1.061817</td>\n      <td>0.824366</td>\n    </tr>\n    <tr>\n      <td>9</td>\n      <td>0.187900</td>\n      <td>1.164404</td>\n      <td>0.821274</td>\n    </tr>\n    <tr>\n      <td>10</td>\n      <td>0.029200</td>\n      <td>1.254317</td>\n      <td>0.819419</td>\n    </tr>\n    <tr>\n      <td>11</td>\n      <td>0.000200</td>\n      <td>1.408363</td>\n      <td>0.810142</td>\n    </tr>\n    <tr>\n      <td>12</td>\n      <td>0.000600</td>\n      <td>1.382283</td>\n      <td>0.813234</td>\n    </tr>\n    <tr>\n      <td>13</td>\n      <td>0.088000</td>\n      <td>1.401633</td>\n      <td>0.825603</td>\n    </tr>\n    <tr>\n      <td>14</td>\n      <td>0.038100</td>\n      <td>1.358702</td>\n      <td>0.822511</td>\n    </tr>\n    <tr>\n      <td>15</td>\n      <td>0.000000</td>\n      <td>1.424208</td>\n      <td>0.816945</td>\n    </tr>\n    <tr>\n      <td>16</td>\n      <td>0.000000</td>\n      <td>1.405330</td>\n      <td>0.827458</td>\n    </tr>\n    <tr>\n      <td>17</td>\n      <td>0.018300</td>\n      <td>1.435739</td>\n      <td>0.831787</td>\n    </tr>\n    <tr>\n      <td>18</td>\n      <td>0.000000</td>\n      <td>1.412269</td>\n      <td>0.830550</td>\n    </tr>\n    <tr>\n      <td>19</td>\n      <td>0.009800</td>\n      <td>1.407696</td>\n      <td>0.833024</td>\n    </tr>\n    <tr>\n      <td>20</td>\n      <td>0.000000</td>\n      <td>1.412602</td>\n      <td>0.833643</td>\n    </tr>\n  </tbody>\n</table><p>"
          },
          "metadata": {}
        },
        {
          "execution_count": 54,
          "output_type": "execute_result",
          "data": {
            "text/plain": "TrainOutput(global_step=18200, training_loss=0.2112818535941315, metrics={'train_runtime': 28584.2977, 'train_samples_per_second': 10.183, 'train_steps_per_second': 0.637, 'total_flos': 1.98589532004864e+18, 'train_loss': 0.2112818535941315, 'epoch': 20.0})"
          },
          "metadata": {}
        }
      ]
    },
    {
      "cell_type": "code",
      "source": [
        "kwargs = {\n",
        "    \"dataset_tags\": \"thisisjibon/banglabeats\",\n",
        "    \"dataset\": \"BanglaBeats\",\n",
        "    \"model_name\": f\"{model_name}-finetuned-banglabeats\",\n",
        "    \"finetuned_from\": model_id,\n",
        "    \"tasks\": \"audio-classification\",\n",
        "}\n",
        "trainer.push_to_hub(**kwargs)"
      ],
      "metadata": {
        "execution": {
          "iopub.status.busy": "2023-09-14T01:56:00.453997Z",
          "iopub.execute_input": "2023-09-14T01:56:00.454416Z",
          "iopub.status.idle": "2023-09-14T01:56:01.670772Z",
          "shell.execute_reply.started": "2023-09-14T01:56:00.454385Z",
          "shell.execute_reply": "2023-09-14T01:56:01.668537Z"
        },
        "trusted": true,
        "id": "KY7jnXKRkR4X",
        "outputId": "65553d2e-d3c0-4ceb-852a-97287efe7192"
      },
      "execution_count": null,
      "outputs": [
        {
          "execution_count": 56,
          "output_type": "execute_result",
          "data": {
            "text/plain": "'https://huggingface.co/thisisjibon/distilhubert-finetuned-banglabeats/tree/main/'"
          },
          "metadata": {}
        }
      ]
    },
    {
      "cell_type": "code",
      "source": [],
      "metadata": {
        "trusted": true,
        "id": "G2tpoYqykR4Y"
      },
      "execution_count": null,
      "outputs": []
    }
  ]
}