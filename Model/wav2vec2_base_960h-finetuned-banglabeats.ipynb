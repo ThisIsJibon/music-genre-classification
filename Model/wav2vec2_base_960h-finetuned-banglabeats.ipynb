{
  "metadata": {
    "kernelspec": {
      "language": "python",
      "display_name": "Python 3",
      "name": "python3"
    },
    "language_info": {
      "name": "python",
      "version": "3.10.12",
      "mimetype": "text/x-python",
      "codemirror_mode": {
        "name": "ipython",
        "version": 3
      },
      "pygments_lexer": "ipython3",
      "nbconvert_exporter": "python",
      "file_extension": ".py"
    },
    "kaggle": {
      "accelerator": "gpu",
      "dataSources": [
        {
          "sourceId": 1032238,
          "sourceType": "datasetVersion",
          "datasetId": 568973
        },
        {
          "sourceId": 6469461,
          "sourceType": "datasetVersion",
          "datasetId": 3736461
        }
      ],
      "dockerImageVersionId": 30527,
      "isInternetEnabled": true,
      "language": "python",
      "sourceType": "notebook",
      "isGpuEnabled": true
    },
    "colab": {
      "provenance": []
    }
  },
  "nbformat_minor": 0,
  "nbformat": 4,
  "cells": [
    {
      "cell_type": "markdown",
      "source": [
        "# Importing libraries, loading and transforming data"
      ],
      "metadata": {
        "id": "KNXdDw3Hi9Nn"
      }
    },
    {
      "cell_type": "code",
      "source": [
        "!pip install -q evaluate transformers==4.28.1\n",
        "!pip install -U -q datasets\n",
        "!pip install -q torchaudio==0.12\n",
        "!add-apt-repository -y ppa:savoury1/ffmpeg4\n",
        "!apt-get -qq install -y ffmpeg\n",
        "!pip install -q mlflow"
      ],
      "metadata": {
        "execution": {
          "iopub.status.busy": "2023-09-28T04:03:05.284874Z",
          "iopub.execute_input": "2023-09-28T04:03:05.285318Z",
          "iopub.status.idle": "2023-09-28T04:06:03.943700Z",
          "shell.execute_reply.started": "2023-09-28T04:03:05.285288Z",
          "shell.execute_reply": "2023-09-28T04:06:03.942187Z"
        },
        "trusted": true,
        "id": "GlhgJywFi9Nq",
        "outputId": "0769acd8-a308-4569-d37d-58adf240cb42"
      },
      "execution_count": null,
      "outputs": [
        {
          "name": "stdout",
          "text": "\u001b[31mERROR: pip's dependency resolver does not currently take into account all the packages that are installed. This behaviour is the source of the following dependency conflicts.\ntorchdata 0.6.0 requires torch==2.0.0, but you have torch 1.12.0 which is incompatible.\u001b[0m\u001b[31m\n\u001b[0mRepository: 'deb https://ppa.launchpadcontent.net/savoury1/ffmpeg4/ubuntu/ jammy main'\nDescription:\nFFmpeg 4.4.4 builds (& associated multimedia packages) for Xenial & newer.\n\n*** Anyone interested in full builds of FFmpeg 4.4.x including all \"bells and whistles\" needs to have donated, after which access to the new private PPA can be requested. See my Launchpad page linked below for details. ***\n\n*** Please always see https://launchpad.net/~savoury1 for general updates about this Launchpad site before contacting me or reporting any bugs! ***\n\n*** Big thanks to all those who have donated to support this project, you are very directly helping to keep it alive! To all who have not donated: please do so if you can afford it, this project depends on donations. ***\n\nIf software at this site is useful to you then please consider a donation:\n\n*** Donations: https://paypal.me/Savoury1 & https://ko-fi.com/Savoury1 ***\n*** Also https://patreon.com/Savoury1 & https://liberapay.com/Savoury1 ***\n\nUpdate (5 Apr 2023): FFmpeg 4.4 builds from today onwards are now generic, in that they are similar to current Ubuntu 22.04 Jammy FFmpeg builds. All of the dated updates below still apply to the FFmpeg 4.x builds available at a private \"subscriber only\" PPA (ppa:savoury1/ffmpeg) for supporters.\n\nUpdate (24 Jan 2023): FFmpeg 4.4 builds now have AMD AMF (Advanced Media Framework) support, using latest headers from AMF 1.4.29 (released today).\n\nUpdate (23 Oct 2022): FFmpeg 4.4 builds now have rav1e (new Rust-based AV1 encoder) support & are also built with nv-codec-headers 11.1.5.1 (latest).\n\nUpdate (6 Apr 2022): FFmpeg 4.4 builds now have Netflix VMAF support, with thanks to Frank B. (equal #1 patron of these PPAs) for suggesting/testing!\n\nUpdate (8 May 2021): FFmpeg 4.4 uploads from today onwards are built with these additional optional libraries: glslang (shader support), SVT-AV1 (scalable AV1 encoder), zimg (scaling, colorspace conversion, dithering), Vulkan (GPU acceleration on supported hardware), and SMB (Samba sharing).\n\n==========================================================================\n                   FFmpeg 4 - media tool (Xenial & newer)\n==========================================================================\n\naom (3.6.1), aribb24 (1.0.3+git20160115), chafa (1.12.4), chromaprint (1.5.1), cjson (1.7.15), codec2 (1.0.5), cppzmq (4.9.0), dav1d (1.2.1), ffmpeg (4.4.4), ffms2 (2.23), flac (1.4.3), fluidsynth (2.3.3), fontconfig (2.13.1), freeglut (3.4.0), freetype (2.11.1), gnutls28 (3.7.3), gpac (2.0.0), gst-{libav,python}1.0 (1.20.6 for gst*), gst-plugins-{bad,base,good,ugly}1.0, gstreamer{-vaapi,1.0}, harfbuzz (6.0.0), ilmbase (3.1.9 = imath), intel-gmmlib (22.3.10), intel-media{-driver,-driver-non-free} (23.2.4), intel-mediasdk (23.2.2), lensfun (0.3.3), libass (0.16.0), libbluray (1.3.4), libbs2b (3.1.0), libcamera (0.1.0), libcdio (2.1.0), libcdio-paranoia (10.2+2.0.1), libdvdnav (6.1.1), libdvdread (6.1.3), libevent (2.1.12-stable), libffado (2.4.7), libfreeaptx (0.1.1), libgcrypt20 (1.10.2), libgsm (1.0.19), libinstpatch (1.1.6), liblc3 (1.0.1), libldac (2.0.2.3+git20200429), libmysofa (1.3.1), libnice (0.1.21), libopenaptx (0.2.0), libopenmpt (0.7.2), libpng1.6 (1.6.40), librabbitmq (0.10.0), libsdl2 (2.28.2), libsodium (1.0.18+git20220815), libsrtp2 (2.5.0), libtasn1-6 (4.18.0), libudfread (1.1.2), libunistring (1.0), libunwind (1.3.2), libva{-utils} (2.19.0), libvpx (1.12.0), libwebm (1.0.0.30), libwebp (1.3.2), libxfixes (6.0.0), libyaml (0.2.5), libyuv (0.0.1857), mbedtls (2.28.2), mpg123 (1.31.3), nettle (3.7.3), norm (1.5.9), openal-soft (1.22.2), opencore-amr (0.1.6), openexr (3.1.11), openh264 (2.3.0), openjpeg2 (2.5.0), opus (1.4), orc (0.4.33), pipewire (0.3.79), pipewire-media-session (0.4.2), rubberband (3.1.2), snappy (1.1.10), sndio (1.9.0), soundtouch (2.3.1), speex{dsp} (1.2.0), srt (1.5.3), timgm6mb-soundfont, unbound (1.16.2), ust (2.13.4), wavpack (5.6.0), x264 (0.164.3101 = libx264-164), x265 (3.5 = libx265-199), zeromq3 (4.3.4), zimg (3.0.4), zxing-cpp (1.2.0)\n\nFocal & Jammy: wireplumber (0.4.14 requires GLib >= 2.62)\n\nFocal only: libdecor-0 (0.1.0 for libsdl2 >= 2.0.20)\n\nXenial & Bionic: alsa-{lib,plugins,tools,topology-conf,ucm-conf,utils} (1.2.2), alsa-oss (1.1.8), alsa-plugins-extra (1.1.0), alsaequal (0.6), fftw3 (3.3.8), fribidi (1.0.8), lcms2 (2.9), leptonlib (1.79.0), libgpg-error, libssh, libvidstab (1.1.0), p11-kit, tesseract (4.1.1), wayland-protocols (1.18), webrtc-audio-processing (0.3.1), wildmidi (0.4.3), zlib\n\nXenial only: autogen, curl, gcc-7 (7.5.0), glib2.0 (2.56.4), gobject-introspection (1.56.1), json-glib (1.4.2), lame (3.100), libidn2, libpsl, lm-sensors (3.6.0), mesa (18.0.5 rebuild for newer Wayland), nghttp2, openssl, pysimplesoap, python-{boto,httplib2,imaplib2} (compat with newer openssl), readline (7.0), unbound, wayland (1.16.0)\n\n==========================================================================\n\n*** Install ***\n\nFFmpeg can be installed from this PPA alone, as the required packages to satisfy minimum versions have been copied here (notify me if any missing). However, if _all_ newest versions of graphics and multimedia packages are desired then two additional PPAs can be added before installing FFmpeg:\n\n  sudo add-apt-repository ppa:savoury1/graphics\n  sudo add-apt-repository ppa:savoury1/multimedia\n  sudo add-apt-repository ppa:savoury1/ffmpeg4\n  sudo apt-get update\n  sudo apt-get upgrade && sudo apt-get dist-upgrade\n  sudo apt-get install ffmpeg\n\nNotes: GStreamer 1.20.x packages are copied here (ppa:savoury1/multimedia) as FFmpeg and GStreamer must both be built against the Debian SRT package version with renamed libsrt1.5-gnutls or they cannot both be installed at the same time. GStreamer is on basically every Ubuntu-based system so this means it is necessary to upgrade GStreamer packages when upgrading FFmpeg.\n\nAlso, PipeWire 0.3.x packages are copied here from the multimedia PPA due PipeWire now being commonly used by various software. As the FFmpeg 4 PPA is required by numerous PPAs at this Launchpad site it makes the latest PipeWire readily available to all users. PipeWire is built with ALSA 1.2.2 minimum (Focal, backported to Xenial & Bionic) which is then required to run, so base ALSA packages are now also copied here for Xenial & Bionic.\n\n* Xenial systems: As of FFmpeg 4.3 the installation requires GCC >= 7 as the Intel-MediaSDK is enabled, with libmfx1 requiring GCC >= 7 (package fails to build with GCC 5.4.0). So GCC 7.5.0 (ppa:savoury1/toolchain) for Xenial has been copied here, making it easier to install FFmpeg 4.x on Xenial (so adding this FFmpeg 4 PPA will bring a few GCC 7.5.0 upgrades).\n\n* Focal systems: Builds of FFmpeg are now also available for i386 whereas they were not available initially. Launchpad does not build most packages for i386 architecture for Focal and newer series (Launchpad only builds i386 packages on a whitelist managed by the Launchpad team) including for dav1d and pocketsphinx, so these features are not enabled for Focal i386.\n\n*** Build ***\n\nThis PPA has build dependencies on:\n\n  ppa:savoury1/build-tools\n  ppa:savoury1/backports\n  ppa:savoury1/fonts\n  ppa:savoury1/graphics\n  ppa:savoury1/multimedia\n\nAdditionally, for Xenial builds only:\n\n  ppa:savoury1/perl-xenial\n\n*** Credits ***\n\n- Creators of FFmpeg: Michael Niedermayer and the entire FFmpeg team\n  https://github.com/FFmpeg/FFmpeg/graphs/contributors\n\n- Package code: Debian Multimedia Maintainers\n  https://tracker.debian.org/pkg/ffmpeg\nMore info: https://launchpad.net/~savoury1/+archive/ubuntu/ffmpeg4\nAdding repository.\nAdding deb entry to /etc/apt/sources.list.d/savoury1-ubuntu-ffmpeg4-jammy.list\nAdding disabled deb-src entry to /etc/apt/sources.list.d/savoury1-ubuntu-ffmpeg4-jammy.list\nAdding key to /etc/apt/trusted.gpg.d/savoury1-ubuntu-ffmpeg4.gpg with fingerprint E996735927E427A733BB653E374C7797FB006459\nGet:1 https://developer.download.nvidia.com/compute/cuda/repos/ubuntu2204/x86_64  InRelease [1581 B]\nGet:2 http://packages.cloud.google.com/apt gcsfuse-focal InRelease [5023 B]\nGet:3 https://packages.cloud.google.com/apt cloud-sdk InRelease [6361 B]       \nGet:4 https://developer.download.nvidia.com/compute/cuda/repos/ubuntu2204/x86_64  Packages [517 kB]\nGet:5 https://packages.cloud.google.com/apt google-fast-socket InRelease [5015 B]\nGet:6 http://security.ubuntu.com/ubuntu jammy-security InRelease [110 kB]      \nHit:7 http://archive.ubuntu.com/ubuntu jammy InRelease                         \nGet:8 http://packages.cloud.google.com/apt gcsfuse-focal/main amd64 Packages [2851 B]\nGet:9 http://archive.ubuntu.com/ubuntu jammy-updates InRelease [119 kB]        \nGet:10 https://packages.cloud.google.com/apt cloud-sdk/main amd64 Packages [518 kB]\nGet:11 http://archive.ubuntu.com/ubuntu jammy-backports InRelease [109 kB]     \nGet:12 https://ppa.launchpadcontent.net/savoury1/ffmpeg4/ubuntu jammy InRelease [18.1 kB]\nGet:13 http://archive.ubuntu.com/ubuntu jammy-updates/main amd64 Packages [1284 kB]\nGet:14 http://security.ubuntu.com/ubuntu jammy-security/universe amd64 Packages [998 kB]\nGet:15 http://archive.ubuntu.com/ubuntu jammy-updates/restricted amd64 Packages [1158 kB]\nGet:16 http://archive.ubuntu.com/ubuntu jammy-updates/multiverse amd64 Packages [49.8 kB]\nGet:17 http://archive.ubuntu.com/ubuntu jammy-updates/universe amd64 Packages [1264 kB]\nGet:18 http://security.ubuntu.com/ubuntu jammy-security/main amd64 Packages [1014 kB]\nGet:19 https://ppa.launchpadcontent.net/savoury1/ffmpeg4/ubuntu jammy/main amd64 Packages [81.1 kB]\nGet:20 http://archive.ubuntu.com/ubuntu jammy-backports/main amd64 Packages [50.4 kB]\nGet:21 http://archive.ubuntu.com/ubuntu jammy-backports/universe amd64 Packages [28.1 kB]\nGet:22 http://security.ubuntu.com/ubuntu jammy-security/restricted amd64 Packages [1137 kB]\nGet:23 http://security.ubuntu.com/ubuntu jammy-security/multiverse amd64 Packages [44.0 kB]\nFetched 8520 kB in 5s (1590 kB/s)                                              \nReading package lists... Done\nW: http://packages.cloud.google.com/apt/dists/gcsfuse-focal/InRelease: Key is stored in legacy trusted.gpg keyring (/etc/apt/trusted.gpg), see the DEPRECATION section in apt-key(8) for details.\nW: https://packages.cloud.google.com/apt/dists/google-fast-socket/InRelease: Key is stored in legacy trusted.gpg keyring (/etc/apt/trusted.gpg), see the DEPRECATION section in apt-key(8) for details.\n(Reading database ... 113701 files and directories currently installed.)\nPreparing to unpack .../00-ffmpeg_7%3a4.4.4-0ubuntu1~22.04.sav1_amd64.deb ...\nUnpacking ffmpeg (7:4.4.4-0ubuntu1~22.04.sav1) over (7:4.4.2-0ubuntu0.22.04.1) ...\nPreparing to unpack .../01-libavdevice58_7%3a4.4.4-0ubuntu1~22.04.sav1_amd64.deb ...\nUnpacking libavdevice58:amd64 (7:4.4.4-0ubuntu1~22.04.sav1) over (7:4.4.2-0ubuntu0.22.04.1) ...\nPreparing to unpack .../02-libavfilter7_7%3a4.4.4-0ubuntu1~22.04.sav1_amd64.deb ...\nUnpacking libavfilter7:amd64 (7:4.4.4-0ubuntu1~22.04.sav1) over (7:4.4.2-0ubuntu0.22.04.1) ...\nPreparing to unpack .../03-libswscale5_7%3a4.4.4-0ubuntu1~22.04.sav1_amd64.deb ...\nUnpacking libswscale5:amd64 (7:4.4.4-0ubuntu1~22.04.sav1) over (7:4.4.2-0ubuntu0.22.04.1) ...\nPreparing to unpack .../04-libavformat58_7%3a4.4.4-0ubuntu1~22.04.sav1_amd64.deb ...\nUnpacking libavformat58:amd64 (7:4.4.4-0ubuntu1~22.04.sav1) over (7:4.4.2-0ubuntu0.22.04.1) ...\nPreparing to unpack .../05-libavcodec58_7%3a4.4.4-0ubuntu1~22.04.sav1_amd64.deb ...\nUnpacking libavcodec58:amd64 (7:4.4.4-0ubuntu1~22.04.sav1) over (7:4.4.2-0ubuntu0.22.04.1) ...\nPreparing to unpack .../06-libswresample3_7%3a4.4.4-0ubuntu1~22.04.sav1_amd64.deb ...\nUnpacking libswresample3:amd64 (7:4.4.4-0ubuntu1~22.04.sav1) over (7:4.4.2-0ubuntu0.22.04.1) ...\nPreparing to unpack .../07-libpostproc55_7%3a4.4.4-0ubuntu1~22.04.sav1_amd64.deb ...\nUnpacking libpostproc55:amd64 (7:4.4.4-0ubuntu1~22.04.sav1) over (7:4.4.2-0ubuntu0.22.04.1) ...\nPreparing to unpack .../08-libavutil56_7%3a4.4.4-0ubuntu1~22.04.sav1_amd64.deb ...\nUnpacking libavutil56:amd64 (7:4.4.4-0ubuntu1~22.04.sav1) over (7:4.4.2-0ubuntu0.22.04.1) ...\nPreparing to unpack .../09-libsndio7.0_1.9.0-0.3~22.04.sav0_amd64.deb ...\nUnpacking libsndio7.0:amd64 (1.9.0-0.3~22.04.sav0) over (1.8.1-1.1) ...\nSelecting previously unselected package libsndio7:amd64.\nPreparing to unpack .../10-libsndio7_1.9.0-0.3~22.04.sav0_amd64.deb ...\nUnpacking libsndio7:amd64 (1.9.0-0.3~22.04.sav0) ...\nPreparing to unpack .../11-librubberband2_3.1.2+dfsg0-1~22.04.sav0_amd64.deb ...\nUnpacking librubberband2:amd64 (3.1.2+dfsg0-1~22.04.sav0) over (2.0.0-2) ...\nSelecting previously unselected package libsrt1.5-gnutls:amd64.\nPreparing to unpack .../12-libsrt1.5-gnutls_1.5.3-0ubuntu1~22.04.sav0_amd64.deb ...\nUnpacking libsrt1.5-gnutls:amd64 (1.5.3-0ubuntu1~22.04.sav0) ...\nPreparing to unpack .../13-libcodec2-1.0_1.0.5-1ubuntu2~22.04.sav0_amd64.deb ...\nUnpacking libcodec2-1.0:amd64 (1.0.5-1ubuntu2~22.04.sav0) over (1.0.1-3) ...\nPreparing to unpack .../14-libsnappy-dev_1.1.10-1~22.04.sav0_amd64.deb ...\nUnpacking libsnappy-dev:amd64 (1.1.10-1~22.04.sav0) over (1.1.8-1build3) ...\nPreparing to unpack .../15-libsnappy1v5_1.1.10-1~22.04.sav0_amd64.deb ...\nUnpacking libsnappy1v5:amd64 (1.1.10-1~22.04.sav0) over (1.1.8-1build3) ...\nPreparing to unpack .../16-libvpx7_1.12.0-1ubuntu1~22.04.sav0_amd64.deb ...\nUnpacking libvpx7:amd64 (1.12.0-1ubuntu1~22.04.sav0) over (1.11.0-2ubuntu2) ...\nSelecting previously unselected package libx264-164:amd64.\nPreparing to unpack .../17-libx264-164_2%3a0.164.3101+gitb093bbe-0ubuntu1~22.04.sav0_amd64.deb ...\nUnpacking libx264-164:amd64 (2:0.164.3101+gitb093bbe-0ubuntu1~22.04.sav0) ...\nSetting up libcodec2-1.0:amd64 (1.0.5-1ubuntu2~22.04.sav0) ...\nSetting up libx264-164:amd64 (2:0.164.3101+gitb093bbe-0ubuntu1~22.04.sav0) ...\nSetting up libavutil56:amd64 (7:4.4.4-0ubuntu1~22.04.sav1) ...\nSetting up libsnappy1v5:amd64 (1.1.10-1~22.04.sav0) ...\nSetting up libpostproc55:amd64 (7:4.4.4-0ubuntu1~22.04.sav1) ...\nSetting up librubberband2:amd64 (3.1.2+dfsg0-1~22.04.sav0) ...\nSetting up libsrt1.5-gnutls:amd64 (1.5.3-0ubuntu1~22.04.sav0) ...\nSetting up libvpx7:amd64 (1.12.0-1ubuntu1~22.04.sav0) ...\nSetting up libswscale5:amd64 (7:4.4.4-0ubuntu1~22.04.sav1) ...\nSetting up libsndio7:amd64 (1.9.0-0.3~22.04.sav0) ...\nSetting up libsnappy-dev:amd64 (1.1.10-1~22.04.sav0) ...\nSetting up libswresample3:amd64 (7:4.4.4-0ubuntu1~22.04.sav1) ...\nSetting up libsndio7.0:amd64 (1.9.0-0.3~22.04.sav0) ...\nSetting up libavcodec58:amd64 (7:4.4.4-0ubuntu1~22.04.sav1) ...\nSetting up libavformat58:amd64 (7:4.4.4-0ubuntu1~22.04.sav1) ...\nSetting up libavfilter7:amd64 (7:4.4.4-0ubuntu1~22.04.sav1) ...\nSetting up libavdevice58:amd64 (7:4.4.4-0ubuntu1~22.04.sav1) ...\nSetting up ffmpeg (7:4.4.4-0ubuntu1~22.04.sav1) ...\nProcessing triggers for man-db (2.10.2-1) ...\nProcessing triggers for libc-bin (2.35-0ubuntu3.1) ...\n",
          "output_type": "stream"
        }
      ]
    },
    {
      "cell_type": "code",
      "source": [
        "pip show tensorflow"
      ],
      "metadata": {
        "execution": {
          "iopub.status.busy": "2023-09-15T05:59:14.749784Z",
          "iopub.execute_input": "2023-09-15T05:59:14.753253Z",
          "iopub.status.idle": "2023-09-15T05:59:28.980938Z",
          "shell.execute_reply.started": "2023-09-15T05:59:14.753191Z",
          "shell.execute_reply": "2023-09-15T05:59:28.979362Z"
        },
        "trusted": true,
        "id": "vIyqjOsGi9Nt",
        "outputId": "d71d480a-f257-40e9-c9d8-c55fcae1ddf3"
      },
      "execution_count": null,
      "outputs": [
        {
          "name": "stdout",
          "text": "Name: tensorflow\nVersion: 2.12.0\nSummary: TensorFlow is an open source machine learning framework for everyone.\nHome-page: https://www.tensorflow.org/\nAuthor: Google Inc.\nAuthor-email: packages@tensorflow.org\nLicense: Apache 2.0\nLocation: /opt/conda/lib/python3.10/site-packages\nRequires: absl-py, astunparse, flatbuffers, gast, google-pasta, grpcio, h5py, jax, keras, libclang, numpy, opt-einsum, packaging, protobuf, setuptools, six, tensorboard, tensorflow-estimator, tensorflow-io-gcs-filesystem, termcolor, typing-extensions, wrapt\nRequired-by: explainable-ai-sdk, tensorflow-cloud, tensorflow-decision-forests, tensorflow-serving-api, tensorflow-text, tensorflowjs, witwidget\nNote: you may need to restart the kernel to use updated packages.\n",
          "output_type": "stream"
        }
      ]
    },
    {
      "cell_type": "code",
      "source": [
        "#imports\n",
        "import pandas as pd\n",
        "import gc\n",
        "import re\n",
        "import numpy as np\n",
        "import torch\n",
        "from imblearn.over_sampling import RandomOverSampler\n",
        "import datasets\n",
        "import transformers\n",
        "print(transformers.__version__)\n",
        "\n",
        "import warnings\n",
        "warnings.filterwarnings(\"ignore\")\n",
        "\n",
        "from tqdm import tqdm\n",
        "tqdm.pandas()"
      ],
      "metadata": {
        "execution": {
          "iopub.status.busy": "2023-09-28T04:15:46.180452Z",
          "iopub.execute_input": "2023-09-28T04:15:46.180925Z",
          "iopub.status.idle": "2023-09-28T04:15:50.507442Z",
          "shell.execute_reply.started": "2023-09-28T04:15:46.180877Z",
          "shell.execute_reply": "2023-09-28T04:15:50.505641Z"
        },
        "trusted": true,
        "id": "catePCqZi9Nu",
        "outputId": "111b85fb-a705-4a7e-8a28-45cbcab6e426"
      },
      "execution_count": null,
      "outputs": [
        {
          "name": "stderr",
          "text": "/opt/conda/lib/python3.10/site-packages/scipy/__init__.py:146: UserWarning: A NumPy version >=1.16.5 and <1.23.0 is required for this version of SciPy (detected version 1.23.5\n  warnings.warn(f\"A NumPy version >={np_minversion} and <{np_maxversion}\"\n",
          "output_type": "stream"
        },
        {
          "name": "stdout",
          "text": "4.28.1\n",
          "output_type": "stream"
        }
      ]
    },
    {
      "cell_type": "code",
      "source": [
        "RATE_HZ = 16000 # resampling rate in Hz\n",
        "MAX_LENGTH = 48000 # maximum audio interval length to consider (= RATE_HZ * SECONDS)\n",
        "labels = ['Adhunik','Folk','Indie','Islamic','Hiphop','Rock','Metal','Pop']\n",
        "label2id, id2label = dict(), dict()\n",
        "for i, label in enumerate(labels):\n",
        "    label2id[label] = i\n",
        "    id2label[i] = label\n",
        "\n",
        "print(id2label, '\\n\\n', label2id)"
      ],
      "metadata": {
        "execution": {
          "iopub.status.busy": "2023-09-28T04:15:50.509464Z",
          "iopub.execute_input": "2023-09-28T04:15:50.510580Z",
          "iopub.status.idle": "2023-09-28T04:15:50.518473Z",
          "shell.execute_reply.started": "2023-09-28T04:15:50.510539Z",
          "shell.execute_reply": "2023-09-28T04:15:50.516446Z"
        },
        "trusted": true,
        "id": "izmjP025i9Nw",
        "outputId": "efc41f04-63c4-47c4-d101-bc4872c5656e"
      },
      "execution_count": null,
      "outputs": [
        {
          "name": "stdout",
          "text": "{0: 'Adhunik', 1: 'Folk', 2: 'Indie', 3: 'Islamic', 4: 'Hiphop', 5: 'Rock', 6: 'Metal', 7: 'Pop'} \n\n {'Adhunik': 0, 'Folk': 1, 'Indie': 2, 'Islamic': 3, 'Hiphop': 4, 'Rock': 5, 'Metal': 6, 'Pop': 7}\n",
          "output_type": "stream"
        }
      ]
    },
    {
      "cell_type": "markdown",
      "source": [
        "# Load and preprocess data"
      ],
      "metadata": {
        "id": "fz27uAGli9Nx"
      }
    },
    {
      "cell_type": "code",
      "source": [
        "from pathlib import Path\n",
        "import torchaudio\n",
        "\n",
        "# def load_data():\n",
        "#     file_list = []\n",
        "#     label_list = []\n",
        "\n",
        "#     for folder in Path('/kaggle/input/banglabeats3sec/wavs3sec/').glob('*'):\n",
        "#         genre = folder.name  # Get the genre name from the folder\n",
        "\n",
        "#         # Count the number of files processed for this genre\n",
        "#         files_processed = 0\n",
        "\n",
        "#         for file in folder.glob('*.wav'):\n",
        "#             if not 'jazz.00054' in str(file):  # skip bad example\n",
        "#                 file_list.append(file)\n",
        "#                 label_list.append(label2id[genre])\n",
        "#                 files_processed += 1\n",
        "\n",
        "#                 if files_processed >= 1700:\n",
        "#                     break  # Break out of the loop if the limit is reached\n",
        "\n",
        "#         if files_processed >= limit_per_folder:\n",
        "#             break  # Break out of the outer loop if the limit is reached for all genres\n",
        "\n",
        "#     dd = pd.DataFrame()\n",
        "#     dd['file'] = file_list\n",
        "#     dd['label'] = label_list\n",
        "#     return dd\n",
        "\n",
        "from pathlib import Path\n",
        "import torchaudio\n",
        "\n",
        "def load_data():\n",
        "    file_list = []\n",
        "    label_list = []\n",
        "    for file in Path('/kaggle/input/banglabeats3sec/wavs3sec/').glob('*/*.wav'):\n",
        "        if not 'jazz.00054' in str(file): # skip bad example\n",
        "            genre = file.parent.name\n",
        "            file_list.append(file)\n",
        "            label_list.append(label2id[genre])\n",
        "    dd = pd.DataFrame()\n",
        "    dd['file'] = file_list\n",
        "    dd['label'] = label_list\n",
        "    return dd"
      ],
      "metadata": {
        "execution": {
          "iopub.status.busy": "2023-09-28T04:15:53.422662Z",
          "iopub.execute_input": "2023-09-28T04:15:53.423031Z",
          "iopub.status.idle": "2023-09-28T04:15:53.765715Z",
          "shell.execute_reply.started": "2023-09-28T04:15:53.423000Z",
          "shell.execute_reply": "2023-09-28T04:15:53.764426Z"
        },
        "trusted": true,
        "id": "Qwu38975i9Nx"
      },
      "execution_count": null,
      "outputs": []
    },
    {
      "cell_type": "code",
      "source": [
        "%%time\n",
        "dd = load_data()\n",
        "dd.head()"
      ],
      "metadata": {
        "execution": {
          "iopub.status.busy": "2023-09-28T04:16:07.050430Z",
          "iopub.execute_input": "2023-09-28T04:16:07.050981Z",
          "iopub.status.idle": "2023-09-28T04:16:08.341191Z",
          "shell.execute_reply.started": "2023-09-28T04:16:07.050935Z",
          "shell.execute_reply": "2023-09-28T04:16:08.340065Z"
        },
        "trusted": true,
        "id": "RKi5yeC2i9Ny",
        "outputId": "f0b0d905-6b59-41da-ea35-063eb739d8c8"
      },
      "execution_count": null,
      "outputs": [
        {
          "name": "stdout",
          "text": "CPU times: user 291 ms, sys: 33.6 ms, total: 324 ms\nWall time: 1.27 s\n",
          "output_type": "stream"
        },
        {
          "execution_count": 6,
          "output_type": "execute_result",
          "data": {
            "text/plain": "                                                file  label\n0  /kaggle/input/banglabeats3sec/wavs3sec/Metal/6...      6\n1  /kaggle/input/banglabeats3sec/wavs3sec/Metal/1...      6\n2  /kaggle/input/banglabeats3sec/wavs3sec/Metal/3...      6\n3  /kaggle/input/banglabeats3sec/wavs3sec/Metal/3...      6\n4  /kaggle/input/banglabeats3sec/wavs3sec/Metal/1...      6",
            "text/html": "<div>\n<style scoped>\n    .dataframe tbody tr th:only-of-type {\n        vertical-align: middle;\n    }\n\n    .dataframe tbody tr th {\n        vertical-align: top;\n    }\n\n    .dataframe thead th {\n        text-align: right;\n    }\n</style>\n<table border=\"1\" class=\"dataframe\">\n  <thead>\n    <tr style=\"text-align: right;\">\n      <th></th>\n      <th>file</th>\n      <th>label</th>\n    </tr>\n  </thead>\n  <tbody>\n    <tr>\n      <th>0</th>\n      <td>/kaggle/input/banglabeats3sec/wavs3sec/Metal/6...</td>\n      <td>6</td>\n    </tr>\n    <tr>\n      <th>1</th>\n      <td>/kaggle/input/banglabeats3sec/wavs3sec/Metal/1...</td>\n      <td>6</td>\n    </tr>\n    <tr>\n      <th>2</th>\n      <td>/kaggle/input/banglabeats3sec/wavs3sec/Metal/3...</td>\n      <td>6</td>\n    </tr>\n    <tr>\n      <th>3</th>\n      <td>/kaggle/input/banglabeats3sec/wavs3sec/Metal/3...</td>\n      <td>6</td>\n    </tr>\n    <tr>\n      <th>4</th>\n      <td>/kaggle/input/banglabeats3sec/wavs3sec/Metal/1...</td>\n      <td>6</td>\n    </tr>\n  </tbody>\n</table>\n</div>"
          },
          "metadata": {}
        }
      ]
    },
    {
      "cell_type": "code",
      "source": [
        "dd.shape"
      ],
      "metadata": {
        "execution": {
          "iopub.status.busy": "2023-09-28T04:16:11.414844Z",
          "iopub.execute_input": "2023-09-28T04:16:11.415235Z",
          "iopub.status.idle": "2023-09-28T04:16:11.422291Z",
          "shell.execute_reply.started": "2023-09-28T04:16:11.415203Z",
          "shell.execute_reply": "2023-09-28T04:16:11.421128Z"
        },
        "trusted": true,
        "id": "YWLYTauwi9Nz",
        "outputId": "d790ed96-a4ca-474b-cfc3-708fe056212d"
      },
      "execution_count": null,
      "outputs": [
        {
          "execution_count": 7,
          "output_type": "execute_result",
          "data": {
            "text/plain": "(16170, 2)"
          },
          "metadata": {}
        }
      ]
    },
    {
      "cell_type": "code",
      "source": [
        "# # random oversampling of minority class # ensure that each class has the same number of records\n",
        "# y = dd[['label']]\n",
        "# dd = dd.drop(['label'], axis=1)\n",
        "# ros = RandomOverSampler(random_state=83)\n",
        "# dd, y_resampled = ros.fit_resample(dd, y)\n",
        "# del y\n",
        "# dd['label'] = y_resampled\n",
        "# del y_resampled\n",
        "# gc.collect()"
      ],
      "metadata": {
        "execution": {
          "iopub.status.busy": "2023-09-15T05:59:36.780656Z",
          "iopub.execute_input": "2023-09-15T05:59:36.782365Z",
          "iopub.status.idle": "2023-09-15T05:59:36.791387Z",
          "shell.execute_reply.started": "2023-09-15T05:59:36.782309Z",
          "shell.execute_reply": "2023-09-15T05:59:36.789831Z"
        },
        "trusted": true,
        "id": "LIWa-5qCi9N1"
      },
      "execution_count": null,
      "outputs": []
    },
    {
      "cell_type": "code",
      "source": [
        "dd.shape, dd['label'].value_counts()"
      ],
      "metadata": {
        "execution": {
          "iopub.status.busy": "2023-09-28T04:16:15.230464Z",
          "iopub.execute_input": "2023-09-28T04:16:15.230824Z",
          "iopub.status.idle": "2023-09-28T04:16:15.245604Z",
          "shell.execute_reply.started": "2023-09-28T04:16:15.230792Z",
          "shell.execute_reply": "2023-09-28T04:16:15.244325Z"
        },
        "trusted": true,
        "id": "jTXq5Nlii9N7",
        "outputId": "435e1702-5489-43ec-d717-4b7fa145fb72"
      },
      "execution_count": null,
      "outputs": [
        {
          "execution_count": 8,
          "output_type": "execute_result",
          "data": {
            "text/plain": "((16170, 2),\n 1    2350\n 0    2230\n 3    2050\n 2    2020\n 7    1960\n 6    1920\n 5    1910\n 4    1730\n Name: label, dtype: int64)"
          },
          "metadata": {}
        }
      ]
    },
    {
      "cell_type": "code",
      "source": [
        "gc.collect()\n",
        "!export LRU_CACHE_CAPACITY=1\n",
        "!export 'PYTORCH_CUDA_ALLOC_CONF=max_split_size_mb:512'"
      ],
      "metadata": {
        "execution": {
          "iopub.status.busy": "2023-09-28T04:16:18.612446Z",
          "iopub.execute_input": "2023-09-28T04:16:18.612820Z",
          "iopub.status.idle": "2023-09-28T04:16:20.672893Z",
          "shell.execute_reply.started": "2023-09-28T04:16:18.612784Z",
          "shell.execute_reply": "2023-09-28T04:16:20.671544Z"
        },
        "trusted": true,
        "id": "C9rZyOyQi9N9"
      },
      "execution_count": null,
      "outputs": []
    },
    {
      "cell_type": "code",
      "source": [
        "def get_transform_audio(file):\n",
        "    audio,rate = torchaudio.load(str(file))\n",
        "    transform = torchaudio.transforms.Resample(rate,RATE_HZ)\n",
        "    audio = transform(audio).squeeze(0).numpy()\n",
        "    audio = audio[:MAX_LENGTH]\n",
        "    return audio # truncate to first part of audio to save RAM\n",
        "dd['audio'] = dd['file'].progress_apply(get_transform_audio)"
      ],
      "metadata": {
        "execution": {
          "iopub.status.busy": "2023-09-28T04:16:22.872112Z",
          "iopub.execute_input": "2023-09-28T04:16:22.872501Z",
          "iopub.status.idle": "2023-09-28T04:24:49.736250Z",
          "shell.execute_reply.started": "2023-09-28T04:16:22.872466Z",
          "shell.execute_reply": "2023-09-28T04:24:49.735102Z"
        },
        "trusted": true,
        "id": "d3hwMFhSi9N-",
        "outputId": "8d4ee849-0a48-4daa-ff2c-a0c14fcaddfa"
      },
      "execution_count": null,
      "outputs": [
        {
          "name": "stderr",
          "text": "100%|██████████| 16170/16170 [08:26<00:00, 31.90it/s]\n",
          "output_type": "stream"
        }
      ]
    },
    {
      "cell_type": "code",
      "source": [
        "%%time\n",
        "dd = dd.drop(['file'], axis=1)"
      ],
      "metadata": {
        "execution": {
          "iopub.status.busy": "2023-09-28T04:24:49.738338Z",
          "iopub.execute_input": "2023-09-28T04:24:49.739151Z",
          "iopub.status.idle": "2023-09-28T04:24:49.750268Z",
          "shell.execute_reply.started": "2023-09-28T04:24:49.739113Z",
          "shell.execute_reply": "2023-09-28T04:24:49.749117Z"
        },
        "trusted": true,
        "id": "TfQyvOHQi9N_",
        "outputId": "32d91f6f-b973-4641-baf7-127e4069d4f5"
      },
      "execution_count": null,
      "outputs": [
        {
          "name": "stdout",
          "text": "CPU times: user 292 µs, sys: 1.95 ms, total: 2.25 ms\nWall time: 4.58 ms\n",
          "output_type": "stream"
        }
      ]
    },
    {
      "cell_type": "code",
      "source": [
        "dd.sample(5)"
      ],
      "metadata": {
        "execution": {
          "iopub.status.busy": "2023-09-28T04:24:49.751762Z",
          "iopub.execute_input": "2023-09-28T04:24:49.752124Z",
          "iopub.status.idle": "2023-09-28T04:24:49.788053Z",
          "shell.execute_reply.started": "2023-09-28T04:24:49.752090Z",
          "shell.execute_reply": "2023-09-28T04:24:49.787078Z"
        },
        "trusted": true,
        "id": "KnfmCpCAi9OA",
        "outputId": "6d1cef01-d86a-49ef-9b6e-d719123da5bb"
      },
      "execution_count": null,
      "outputs": [
        {
          "execution_count": 12,
          "output_type": "execute_result",
          "data": {
            "text/plain": "       label                                              audio\n7664       0  [-0.10168226, -0.19984412, -0.14819269, -0.097...\n10072      2  [-0.21388151, -0.34130138, -0.26057282, -0.206...\n14896      7  [-0.0077559645, -0.013353276, -0.019928586, -0...\n14794      7  [-0.14665158, -0.15244454, -0.08240593, -0.172...\n14158      4  [0.008032747, 0.07527016, 0.18997057, 0.186019...",
            "text/html": "<div>\n<style scoped>\n    .dataframe tbody tr th:only-of-type {\n        vertical-align: middle;\n    }\n\n    .dataframe tbody tr th {\n        vertical-align: top;\n    }\n\n    .dataframe thead th {\n        text-align: right;\n    }\n</style>\n<table border=\"1\" class=\"dataframe\">\n  <thead>\n    <tr style=\"text-align: right;\">\n      <th></th>\n      <th>label</th>\n      <th>audio</th>\n    </tr>\n  </thead>\n  <tbody>\n    <tr>\n      <th>7664</th>\n      <td>0</td>\n      <td>[-0.10168226, -0.19984412, -0.14819269, -0.097...</td>\n    </tr>\n    <tr>\n      <th>10072</th>\n      <td>2</td>\n      <td>[-0.21388151, -0.34130138, -0.26057282, -0.206...</td>\n    </tr>\n    <tr>\n      <th>14896</th>\n      <td>7</td>\n      <td>[-0.0077559645, -0.013353276, -0.019928586, -0...</td>\n    </tr>\n    <tr>\n      <th>14794</th>\n      <td>7</td>\n      <td>[-0.14665158, -0.15244454, -0.08240593, -0.172...</td>\n    </tr>\n    <tr>\n      <th>14158</th>\n      <td>4</td>\n      <td>[0.008032747, 0.07527016, 0.18997057, 0.186019...</td>\n    </tr>\n  </tbody>\n</table>\n</div>"
          },
          "metadata": {}
        }
      ]
    },
    {
      "cell_type": "markdown",
      "source": [],
      "metadata": {
        "id": "XQ7D7TBWi9OC"
      }
    },
    {
      "cell_type": "code",
      "source": [
        "gc.collect()\n",
        "!export LRU_CACHE_CAPACITY=1\n",
        "!export 'PYTORCH_CUDA_ALLOC_CONF=max_split_size_mb:512'"
      ],
      "metadata": {
        "execution": {
          "iopub.status.busy": "2023-09-28T04:24:49.791407Z",
          "iopub.execute_input": "2023-09-28T04:24:49.791851Z",
          "iopub.status.idle": "2023-09-28T04:24:52.154922Z",
          "shell.execute_reply.started": "2023-09-28T04:24:49.791813Z",
          "shell.execute_reply": "2023-09-28T04:24:52.153563Z"
        },
        "trusted": true,
        "id": "nJ3-C1cSi9OE"
      },
      "execution_count": null,
      "outputs": []
    },
    {
      "cell_type": "code",
      "source": [
        "from datasets import Dataset, ClassLabel\n",
        "dd = Dataset.from_pandas(dd)"
      ],
      "metadata": {
        "execution": {
          "iopub.status.busy": "2023-09-28T04:24:52.157287Z",
          "iopub.execute_input": "2023-09-28T04:24:52.157895Z",
          "iopub.status.idle": "2023-09-28T04:25:08.491426Z",
          "shell.execute_reply.started": "2023-09-28T04:24:52.157846Z",
          "shell.execute_reply": "2023-09-28T04:25:08.490120Z"
        },
        "trusted": true,
        "id": "aPyusYzOi9OF"
      },
      "execution_count": null,
      "outputs": []
    },
    {
      "cell_type": "code",
      "source": [
        "from collections import Counter\n",
        "Counter(dd['label']).items()"
      ],
      "metadata": {
        "execution": {
          "iopub.status.busy": "2023-09-28T04:25:08.496290Z",
          "iopub.execute_input": "2023-09-28T04:25:08.496657Z",
          "iopub.status.idle": "2023-09-28T04:25:08.530933Z",
          "shell.execute_reply.started": "2023-09-28T04:25:08.496625Z",
          "shell.execute_reply": "2023-09-28T04:25:08.530019Z"
        },
        "trusted": true,
        "id": "DMQMzNr3i9OG",
        "outputId": "26728dff-0d96-40a0-a60f-a615258a295c"
      },
      "execution_count": null,
      "outputs": [
        {
          "execution_count": 15,
          "output_type": "execute_result",
          "data": {
            "text/plain": "dict_items([(6, 1920), (1, 2350), (5, 1910), (0, 2230), (2, 2020), (3, 2050), (4, 1730), (7, 1960)])"
          },
          "metadata": {}
        }
      ]
    },
    {
      "cell_type": "code",
      "source": [
        "dd = dd.train_test_split(test_size=0.2)\n",
        "dd"
      ],
      "metadata": {
        "execution": {
          "iopub.status.busy": "2023-09-28T04:25:08.532369Z",
          "iopub.execute_input": "2023-09-28T04:25:08.532946Z",
          "iopub.status.idle": "2023-09-28T04:25:08.564203Z",
          "shell.execute_reply.started": "2023-09-28T04:25:08.532913Z",
          "shell.execute_reply": "2023-09-28T04:25:08.563177Z"
        },
        "trusted": true,
        "id": "9vvgYpGFi9OI",
        "outputId": "0b3fddb2-4c8d-49e6-e965-80ac15af5318"
      },
      "execution_count": null,
      "outputs": [
        {
          "execution_count": 16,
          "output_type": "execute_result",
          "data": {
            "text/plain": "DatasetDict({\n    train: Dataset({\n        features: ['label', 'audio'],\n        num_rows: 12936\n    })\n    test: Dataset({\n        features: ['label', 'audio'],\n        num_rows: 3234\n    })\n})"
          },
          "metadata": {}
        }
      ]
    },
    {
      "cell_type": "code",
      "source": [
        "gc.collect()"
      ],
      "metadata": {
        "execution": {
          "iopub.status.busy": "2023-09-28T04:25:08.565609Z",
          "iopub.execute_input": "2023-09-28T04:25:08.566022Z",
          "iopub.status.idle": "2023-09-28T04:25:08.805291Z",
          "shell.execute_reply.started": "2023-09-28T04:25:08.565981Z",
          "shell.execute_reply": "2023-09-28T04:25:08.804102Z"
        },
        "trusted": true,
        "id": "o8-A5ofji9OJ",
        "outputId": "27b80f0c-67ec-4335-a34b-c6524d4fcb61"
      },
      "execution_count": null,
      "outputs": [
        {
          "execution_count": 17,
          "output_type": "execute_result",
          "data": {
            "text/plain": "31"
          },
          "metadata": {}
        }
      ]
    },
    {
      "cell_type": "markdown",
      "source": [
        "# Load facebook/wav2vec2-base-960h model"
      ],
      "metadata": {
        "id": "M8Laf1ixi9OL"
      }
    },
    {
      "cell_type": "code",
      "source": [
        "from transformers import AutoFeatureExtractor, AutoModelForAudioClassification\n",
        "\n",
        "model_str = \"facebook/wav2vec2-base-960h\"\n",
        "feature_extractor = AutoFeatureExtractor.from_pretrained(model_str)\n",
        "model = AutoModelForAudioClassification.from_pretrained(model_str,num_labels=len(labels))\n",
        "model.config.id2label = id2label\n",
        "# number of trainable parameters\n",
        "print(model.num_parameters(only_trainable=True)/1e6)"
      ],
      "metadata": {
        "execution": {
          "iopub.status.busy": "2023-09-28T04:25:08.806843Z",
          "iopub.execute_input": "2023-09-28T04:25:08.808014Z",
          "iopub.status.idle": "2023-09-28T04:25:22.382345Z",
          "shell.execute_reply.started": "2023-09-28T04:25:08.807978Z",
          "shell.execute_reply": "2023-09-28T04:25:22.381286Z"
        },
        "trusted": true,
        "colab": {
          "referenced_widgets": [
            "58141deb82d944fe8caf0fae5d8acce8",
            "d2d0dc4e549a4b8980dffd955ea9551c",
            "5019afddf7a04306862872fa3b626c7f"
          ]
        },
        "id": "2QUtg8nYi9OM",
        "outputId": "47960db6-0201-45cf-ca89-53dad7a4b243"
      },
      "execution_count": null,
      "outputs": [
        {
          "output_type": "display_data",
          "data": {
            "text/plain": "Downloading (…)rocessor_config.json:   0%|          | 0.00/159 [00:00<?, ?B/s]",
            "application/vnd.jupyter.widget-view+json": {
              "version_major": 2,
              "version_minor": 0,
              "model_id": "58141deb82d944fe8caf0fae5d8acce8"
            }
          },
          "metadata": {}
        },
        {
          "output_type": "display_data",
          "data": {
            "text/plain": "Downloading (…)lve/main/config.json:   0%|          | 0.00/1.60k [00:00<?, ?B/s]",
            "application/vnd.jupyter.widget-view+json": {
              "version_major": 2,
              "version_minor": 0,
              "model_id": "d2d0dc4e549a4b8980dffd955ea9551c"
            }
          },
          "metadata": {}
        },
        {
          "output_type": "display_data",
          "data": {
            "text/plain": "Downloading model.safetensors:   0%|          | 0.00/378M [00:00<?, ?B/s]",
            "application/vnd.jupyter.widget-view+json": {
              "version_major": 2,
              "version_minor": 0,
              "model_id": "5019afddf7a04306862872fa3b626c7f"
            }
          },
          "metadata": {}
        },
        {
          "name": "stderr",
          "text": "Some weights of the model checkpoint at facebook/wav2vec2-base-960h were not used when initializing Wav2Vec2ForSequenceClassification: ['lm_head.weight', 'lm_head.bias']\n- This IS expected if you are initializing Wav2Vec2ForSequenceClassification from the checkpoint of a model trained on another task or with another architecture (e.g. initializing a BertForSequenceClassification model from a BertForPreTraining model).\n- This IS NOT expected if you are initializing Wav2Vec2ForSequenceClassification from the checkpoint of a model that you expect to be exactly identical (initializing a BertForSequenceClassification model from a BertForSequenceClassification model).\nSome weights of Wav2Vec2ForSequenceClassification were not initialized from the model checkpoint at facebook/wav2vec2-base-960h and are newly initialized: ['projector.bias', 'wav2vec2.masked_spec_embed', 'classifier.weight', 'classifier.bias', 'projector.weight']\nYou should probably TRAIN this model on a down-stream task to be able to use it for predictions and inference.\n",
          "output_type": "stream"
        },
        {
          "name": "stdout",
          "text": "94.570632\n",
          "output_type": "stream"
        }
      ]
    },
    {
      "cell_type": "code",
      "source": [
        "!export LRU_CACHE_CAPACITY=1\n",
        "!export 'PYTORCH_CUDA_ALLOC_CONF=max_split_size_mb:512'"
      ],
      "metadata": {
        "execution": {
          "iopub.status.busy": "2023-09-28T04:25:22.385892Z",
          "iopub.execute_input": "2023-09-28T04:25:22.386202Z",
          "iopub.status.idle": "2023-09-28T04:25:24.835230Z",
          "shell.execute_reply.started": "2023-09-28T04:25:22.386174Z",
          "shell.execute_reply": "2023-09-28T04:25:24.833810Z"
        },
        "trusted": true,
        "id": "gqRDtI3Ri9OO"
      },
      "execution_count": null,
      "outputs": []
    },
    {
      "cell_type": "code",
      "source": [
        "gc.collect()"
      ],
      "metadata": {
        "execution": {
          "iopub.status.busy": "2023-09-28T04:25:24.837171Z",
          "iopub.execute_input": "2023-09-28T04:25:24.838285Z",
          "iopub.status.idle": "2023-09-28T04:25:25.105653Z",
          "shell.execute_reply.started": "2023-09-28T04:25:24.838238Z",
          "shell.execute_reply": "2023-09-28T04:25:25.104504Z"
        },
        "trusted": true,
        "id": "u5KqdjQEi9OP",
        "outputId": "ef6a6528-626b-4ce4-f40e-cc217c99a3d5"
      },
      "execution_count": null,
      "outputs": [
        {
          "execution_count": 20,
          "output_type": "execute_result",
          "data": {
            "text/plain": "420"
          },
          "metadata": {}
        }
      ]
    },
    {
      "cell_type": "code",
      "source": [
        "!export LRU_CACHE_CAPACITY=1\n",
        "!export 'PYTORCH_CUDA_ALLOC_CONF=max_split_size_mb:512'\n",
        "gc.collect()"
      ],
      "metadata": {
        "execution": {
          "iopub.status.busy": "2023-09-28T04:25:25.107462Z",
          "iopub.execute_input": "2023-09-28T04:25:25.107963Z",
          "iopub.status.idle": "2023-09-28T04:25:27.708163Z",
          "shell.execute_reply.started": "2023-09-28T04:25:25.107916Z",
          "shell.execute_reply": "2023-09-28T04:25:27.706955Z"
        },
        "trusted": true,
        "id": "TePyW7AZi9OU",
        "outputId": "d6654c8b-5ba1-47f7-bb61-b738f24a0e54"
      },
      "execution_count": null,
      "outputs": [
        {
          "execution_count": 21,
          "output_type": "execute_result",
          "data": {
            "text/plain": "0"
          },
          "metadata": {}
        }
      ]
    },
    {
      "cell_type": "code",
      "source": [
        "def preprocess_function(batch):\n",
        "    inputs = feature_extractor(batch['audio'], sampling_rate=RATE_HZ, max_length=MAX_LENGTH, truncation=True)\n",
        "    inputs['input_values'] = inputs['input_values'][0]\n",
        "    return inputs\n",
        "\n",
        "dd['test'] = dd['test'].map(preprocess_function, remove_columns=\"audio\", batched=False)\n",
        "!export LRU_CACHE_CAPACITY=1\n",
        "!export 'PYTORCH_CUDA_ALLOC_CONF=max_split_size_mb:512'\n",
        "gc.collect()\n",
        "dd['train'] = dd['train'].map(preprocess_function, remove_columns=\"audio\", batched=False)\n"
      ],
      "metadata": {
        "execution": {
          "iopub.status.busy": "2023-09-28T04:25:27.709854Z",
          "iopub.execute_input": "2023-09-28T04:25:27.710237Z"
        },
        "trusted": true,
        "colab": {
          "referenced_widgets": [
            "6da9e1442c1c4b789240509e7960616a",
            "a230015da8204773a5a22d93c19be523"
          ]
        },
        "id": "Jg6N0izpi9OZ",
        "outputId": "baa70fd7-34e7-4692-e5f7-de90b05f7389"
      },
      "execution_count": null,
      "outputs": [
        {
          "output_type": "display_data",
          "data": {
            "text/plain": "Map:   0%|          | 0/3234 [00:00<?, ? examples/s]",
            "application/vnd.jupyter.widget-view+json": {
              "version_major": 2,
              "version_minor": 0,
              "model_id": "6da9e1442c1c4b789240509e7960616a"
            }
          },
          "metadata": {}
        },
        {
          "output_type": "display_data",
          "data": {
            "text/plain": "Map:   0%|          | 0/12936 [00:00<?, ? examples/s]",
            "application/vnd.jupyter.widget-view+json": {
              "version_major": 2,
              "version_minor": 0,
              "model_id": "a230015da8204773a5a22d93c19be523"
            }
          },
          "metadata": {}
        }
      ]
    },
    {
      "cell_type": "code",
      "source": [
        "gc.collect()\n",
        "!export LRU_CACHE_CAPACITY=1\n",
        "!export 'PYTORCH_CUDA_ALLOC_CONF=max_split_size_mb:512'"
      ],
      "metadata": {
        "trusted": true,
        "id": "906YYy9ri9Ob"
      },
      "execution_count": null,
      "outputs": []
    },
    {
      "cell_type": "markdown",
      "source": [
        "# Train and evaluate model"
      ],
      "metadata": {
        "id": "8832q4I_i9Ob"
      }
    },
    {
      "cell_type": "code",
      "source": [
        "import evaluate\n",
        "\n",
        "accuracy = evaluate.load(\"accuracy\")\n",
        "\n",
        "from sklearn.metrics import roc_auc_score\n",
        "def compute_metrics(eval_pred):\n",
        "    # Compute the ROC AUC score\n",
        "    predictions = eval_pred.predictions\n",
        "    predictions = np.exp(predictions)/np.exp(predictions).sum(axis=1, keepdims=True)\n",
        "    label_ids = eval_pred.label_ids\n",
        "    roc_auc = roc_auc_score(label_ids, predictions, average='macro', multi_class='ovr') # one-vs-rest ROC AUC score\n",
        "\n",
        "    # Calculate accuracy using the loaded accuracy metric\n",
        "    acc_score = accuracy.compute(predictions=predictions.argmax(axis=1), references=label_ids)['accuracy']\n",
        "\n",
        "    return {\n",
        "        \"roc_auc\": roc_auc,\n",
        "        \"accuracy\": acc_score\n",
        "    }"
      ],
      "metadata": {
        "execution": {
          "iopub.status.busy": "2023-09-15T06:24:55.721316Z",
          "iopub.execute_input": "2023-09-15T06:24:55.721761Z",
          "iopub.status.idle": "2023-09-15T06:24:58.427853Z",
          "shell.execute_reply.started": "2023-09-15T06:24:55.721717Z",
          "shell.execute_reply": "2023-09-15T06:24:58.426700Z"
        },
        "trusted": true,
        "colab": {
          "referenced_widgets": [
            "cfe3acfbf16b44428fe53a923d37894f"
          ]
        },
        "id": "qHT6Mm5-i9Ob",
        "outputId": "37f5f704-a61e-433a-90f5-5d210aff5c76"
      },
      "execution_count": null,
      "outputs": [
        {
          "output_type": "display_data",
          "data": {
            "text/plain": "Downloading builder script:   0%|          | 0.00/4.20k [00:00<?, ?B/s]",
            "application/vnd.jupyter.widget-view+json": {
              "version_major": 2,
              "version_minor": 0,
              "model_id": "cfe3acfbf16b44428fe53a923d37894f"
            }
          },
          "metadata": {}
        }
      ]
    },
    {
      "cell_type": "code",
      "source": [
        "from huggingface_hub import notebook_login\n",
        "notebook_login()"
      ],
      "metadata": {
        "execution": {
          "iopub.status.busy": "2023-09-15T06:24:58.429604Z",
          "iopub.execute_input": "2023-09-15T06:24:58.432161Z",
          "iopub.status.idle": "2023-09-15T06:24:58.471368Z",
          "shell.execute_reply.started": "2023-09-15T06:24:58.432121Z",
          "shell.execute_reply": "2023-09-15T06:24:58.470360Z"
        },
        "trusted": true,
        "colab": {
          "referenced_widgets": [
            "232a497fb1754083858f410742258317"
          ]
        },
        "id": "kgIUaWsYi9Oc",
        "outputId": "90cc288c-5ee3-4d0e-b3d0-919fe0f9471e"
      },
      "execution_count": null,
      "outputs": [
        {
          "output_type": "display_data",
          "data": {
            "text/plain": "VBox(children=(HTML(value='<center> <img\\nsrc=https://huggingface.co/front/assets/huggingface_logo-noborder.sv…",
            "application/vnd.jupyter.widget-view+json": {
              "version_major": 2,
              "version_minor": 0,
              "model_id": "232a497fb1754083858f410742258317"
            }
          },
          "metadata": {}
        }
      ]
    },
    {
      "cell_type": "code",
      "source": [
        "from transformers import TrainingArguments, Trainer\n",
        "batch_size=4\n",
        "warmup_steps=50\n",
        "weight_decay=0.02\n",
        "num_train_epochs=25\n",
        "model_name = \"wav2vec2-base-960h\"\n",
        "training_args = TrainingArguments(\n",
        "    f\"{model_name}-finetuned-banglabeats\",\n",
        "    num_train_epochs=num_train_epochs,\n",
        "    per_device_train_batch_size=batch_size,\n",
        "    per_device_eval_batch_size=batch_size,\n",
        "    learning_rate=1e-5, # 5e-6\n",
        "    logging_strategy='steps',\n",
        "    logging_first_step=True,\n",
        "    load_best_model_at_end=True,\n",
        "    logging_steps=1,\n",
        "    evaluation_strategy='epoch',\n",
        "    warmup_steps=warmup_steps,\n",
        "    weight_decay=weight_decay,\n",
        "    eval_steps=1,\n",
        "    gradient_accumulation_steps=1,\n",
        "    gradient_checkpointing=True,\n",
        "    save_strategy='epoch',\n",
        "    push_to_hub=True,\n",
        "    save_total_limit=1, # save fewer checkpoints to limit used space\n",
        "    report_to=\"mlflow\",  # log to mlflow\n",
        ")\n",
        "\n",
        "trainer = Trainer(\n",
        "    model=model,\n",
        "    args=training_args,\n",
        "    train_dataset=dd[\"train\"],\n",
        "    eval_dataset=dd[\"test\"],\n",
        "    tokenizer=feature_extractor,\n",
        "    compute_metrics=compute_metrics,\n",
        ")"
      ],
      "metadata": {
        "execution": {
          "iopub.status.busy": "2023-09-15T06:55:30.381436Z",
          "iopub.execute_input": "2023-09-15T06:55:30.382290Z",
          "iopub.status.idle": "2023-09-15T06:56:21.832206Z",
          "shell.execute_reply.started": "2023-09-15T06:55:30.382242Z",
          "shell.execute_reply": "2023-09-15T06:56:21.823148Z"
        },
        "trusted": true,
        "colab": {
          "referenced_widgets": [
            "ec79cbdd7f4b41729a17b44c035d10b8",
            "10295d5e13004fa8975fec69a6f79b75",
            "bfc91641524c492b872fdf409cc93249"
          ]
        },
        "id": "XuLswAr3i9Od",
        "outputId": "69833c17-6f69-4b4b-8f45-42b3178b84ec"
      },
      "execution_count": null,
      "outputs": [
        {
          "name": "stderr",
          "text": "Cloning https://huggingface.co/thisisjibon/wav2vec2-base-960h-finetuned-banglabeats into local empty directory.\n",
          "output_type": "stream"
        },
        {
          "output_type": "display_data",
          "data": {
            "text/plain": "Download file pytorch_model.bin:   0%|          | 1.40k/361M [00:00<?, ?B/s]",
            "application/vnd.jupyter.widget-view+json": {
              "version_major": 2,
              "version_minor": 0,
              "model_id": "ec79cbdd7f4b41729a17b44c035d10b8"
            }
          },
          "metadata": {}
        },
        {
          "output_type": "display_data",
          "data": {
            "text/plain": "Download file training_args.bin: 100%|##########| 3.55k/3.55k [00:00<?, ?B/s]",
            "application/vnd.jupyter.widget-view+json": {
              "version_major": 2,
              "version_minor": 0,
              "model_id": "10295d5e13004fa8975fec69a6f79b75"
            }
          },
          "metadata": {}
        },
        {
          "output_type": "display_data",
          "data": {
            "text/plain": "Clean file training_args.bin:  28%|##8       | 1.00k/3.55k [00:00<?, ?B/s]",
            "application/vnd.jupyter.widget-view+json": {
              "version_major": 2,
              "version_minor": 0,
              "model_id": "bfc91641524c492b872fdf409cc93249"
            }
          },
          "metadata": {}
        },
        {
          "name": "stderr",
          "text": "\nKeyboardInterrupt\n\n",
          "output_type": "stream"
        }
      ]
    },
    {
      "cell_type": "code",
      "source": [
        "!export LRU_CACHE_CAPACITY=1\n",
        "!export 'PYTORCH_CUDA_ALLOC_CONF=max_split_size_mb:512'\n",
        "gc.collect()"
      ],
      "metadata": {
        "execution": {
          "iopub.status.busy": "2023-09-15T06:56:21.841461Z",
          "iopub.status.idle": "2023-09-15T06:56:21.845279Z",
          "shell.execute_reply.started": "2023-09-15T06:56:21.844888Z",
          "shell.execute_reply": "2023-09-15T06:56:21.844932Z"
        },
        "trusted": true,
        "id": "vkEscDdvi9Of"
      },
      "execution_count": null,
      "outputs": []
    },
    {
      "cell_type": "code",
      "source": [
        "trainer.evaluate()"
      ],
      "metadata": {
        "execution": {
          "iopub.status.busy": "2023-09-15T06:56:21.848194Z",
          "iopub.status.idle": "2023-09-15T06:56:21.849339Z",
          "shell.execute_reply.started": "2023-09-15T06:56:21.849021Z",
          "shell.execute_reply": "2023-09-15T06:56:21.849054Z"
        },
        "trusted": true,
        "id": "Q3rp9-N5i9Og"
      },
      "execution_count": null,
      "outputs": []
    },
    {
      "cell_type": "code",
      "source": [
        "!export LRU_CACHE_CAPACITY=1\n",
        "!export 'PYTORCH_CUDA_ALLOC_CONF=max_split_size_mb:512'\n",
        "gc.collect()"
      ],
      "metadata": {
        "execution": {
          "iopub.status.busy": "2023-09-15T06:56:21.851326Z",
          "iopub.status.idle": "2023-09-15T06:56:21.852425Z",
          "shell.execute_reply.started": "2023-09-15T06:56:21.852082Z",
          "shell.execute_reply": "2023-09-15T06:56:21.852114Z"
        },
        "trusted": true,
        "id": "nUOiiJEqi9Oi"
      },
      "execution_count": null,
      "outputs": []
    },
    {
      "cell_type": "code",
      "source": [
        "trainer.train()"
      ],
      "metadata": {
        "execution": {
          "iopub.status.busy": "2023-09-15T06:56:21.854340Z",
          "iopub.status.idle": "2023-09-15T06:56:21.855399Z",
          "shell.execute_reply.started": "2023-09-15T06:56:21.855071Z",
          "shell.execute_reply": "2023-09-15T06:56:21.855103Z"
        },
        "trusted": true,
        "id": "AIBHqS_7i9Oj"
      },
      "execution_count": null,
      "outputs": []
    },
    {
      "cell_type": "code",
      "source": [
        "!export LRU_CACHE_CAPACITY=1\n",
        "!export 'PYTORCH_CUDA_ALLOC_CONF=max_split_size_mb:512'\n",
        "gc.collect()"
      ],
      "metadata": {
        "execution": {
          "iopub.status.busy": "2023-09-15T06:56:21.857400Z",
          "iopub.status.idle": "2023-09-15T06:56:21.858459Z",
          "shell.execute_reply.started": "2023-09-15T06:56:21.858119Z",
          "shell.execute_reply": "2023-09-15T06:56:21.858153Z"
        },
        "trusted": true,
        "id": "VrlBI-6li9Ol"
      },
      "execution_count": null,
      "outputs": []
    },
    {
      "cell_type": "code",
      "source": [
        "trainer.evaluate()"
      ],
      "metadata": {
        "execution": {
          "iopub.status.busy": "2023-09-15T06:25:08.360534Z",
          "iopub.status.idle": "2023-09-15T06:25:08.361511Z",
          "shell.execute_reply.started": "2023-09-15T06:25:08.361212Z",
          "shell.execute_reply": "2023-09-15T06:25:08.361241Z"
        },
        "trusted": true,
        "id": "HPscbmAfi9Om"
      },
      "execution_count": null,
      "outputs": []
    },
    {
      "cell_type": "code",
      "source": [
        "!export LRU_CACHE_CAPACITY=1\n",
        "!export 'PYTORCH_CUDA_ALLOC_CONF=max_split_size_mb:512'\n",
        "gc.collect()"
      ],
      "metadata": {
        "execution": {
          "iopub.status.busy": "2023-09-15T06:56:21.860466Z",
          "iopub.status.idle": "2023-09-15T06:56:21.861569Z",
          "shell.execute_reply.started": "2023-09-15T06:56:21.861211Z",
          "shell.execute_reply": "2023-09-15T06:56:21.861243Z"
        },
        "trusted": true,
        "id": "I9vKknzzi9Oq"
      },
      "execution_count": null,
      "outputs": []
    },
    {
      "cell_type": "code",
      "source": [
        "trainer.save_model()"
      ],
      "metadata": {
        "execution": {
          "iopub.status.busy": "2023-09-15T06:25:08.366139Z",
          "iopub.status.idle": "2023-09-15T06:25:08.367086Z",
          "shell.execute_reply.started": "2023-09-15T06:25:08.366765Z",
          "shell.execute_reply": "2023-09-15T06:25:08.366792Z"
        },
        "trusted": true,
        "id": "7hvlpgzxi9Ou"
      },
      "execution_count": null,
      "outputs": []
    },
    {
      "cell_type": "code",
      "source": [
        "model_name = \"wav2vec2-base-960h\"\n",
        "kwargs = {\n",
        "    \"dataset_tags\": \"thisisjibon/banglabeats\",\n",
        "    \"dataset\": \"BanglaBeats\",\n",
        "    \"model_name\": f\"{model_name}-finetuned-banglabeats\",\n",
        "    \"finetuned_from\": \"facebook/wav2vec2-base-960h\",\n",
        "    \"tasks\": \"audio-classification\",\n",
        "}\n",
        "trainer.push_to_hub(**kwargs)"
      ],
      "metadata": {
        "execution": {
          "iopub.status.busy": "2023-09-15T06:56:21.863593Z",
          "iopub.status.idle": "2023-09-15T06:56:21.864718Z",
          "shell.execute_reply.started": "2023-09-15T06:56:21.864337Z",
          "shell.execute_reply": "2023-09-15T06:56:21.864385Z"
        },
        "trusted": true,
        "id": "T_gc3fn9i9Ow"
      },
      "execution_count": null,
      "outputs": []
    },
    {
      "cell_type": "code",
      "source": [
        "# from transformers import pipeline\n",
        "\n",
        "# pipe=pipeline('audio-classification',model=model_name,device=0)"
      ],
      "metadata": {
        "execution": {
          "iopub.status.busy": "2023-09-15T06:25:08.371438Z",
          "iopub.status.idle": "2023-09-15T06:25:08.372366Z",
          "shell.execute_reply.started": "2023-09-15T06:25:08.372074Z",
          "shell.execute_reply": "2023-09-15T06:25:08.372102Z"
        },
        "trusted": true,
        "id": "C0SG3QCNi9Ow"
      },
      "execution_count": null,
      "outputs": []
    },
    {
      "cell_type": "code",
      "source": [
        "# # disco example\n",
        "# audio,rate=torchaudio.load('/kaggle/input/gtzan-dataset-music-genre-classification/Data/genres_original/disco/disco.00005.wav')\n",
        "# transform=torchaudio.transforms.Resample(rate,RATE_HZ)\n",
        "# audio=transform(audio).numpy().reshape(-1)\n",
        "# # make a classification pipeline\n",
        "# pipe(audio)"
      ],
      "metadata": {
        "execution": {
          "iopub.status.busy": "2023-09-15T06:25:08.374052Z",
          "iopub.status.idle": "2023-09-15T06:25:08.374972Z",
          "shell.execute_reply.started": "2023-09-15T06:25:08.374653Z",
          "shell.execute_reply": "2023-09-15T06:25:08.374680Z"
        },
        "trusted": true,
        "id": "iu14MItMi9Ox"
      },
      "execution_count": null,
      "outputs": []
    },
    {
      "cell_type": "code",
      "source": [
        "# # classical example\n",
        "# audio,rate=torchaudio.load('/kaggle/input/gtzan-dataset-music-genre-classification/Data/genres_original/classical/classical.00014.wav')\n",
        "# transform=torchaudio.transforms.Resample(rate,RATE_HZ)\n",
        "# audio=transform(audio).numpy().reshape(-1)\n",
        "# # make a classification pipeline\n",
        "# pipe(audio)"
      ],
      "metadata": {
        "execution": {
          "iopub.status.busy": "2023-09-15T06:25:08.376672Z",
          "iopub.status.idle": "2023-09-15T06:25:08.377604Z",
          "shell.execute_reply.started": "2023-09-15T06:25:08.377316Z",
          "shell.execute_reply": "2023-09-15T06:25:08.377343Z"
        },
        "trusted": true,
        "id": "QF5s_FBBi9Ox"
      },
      "execution_count": null,
      "outputs": []
    },
    {
      "cell_type": "code",
      "source": [
        "# from IPython.display import Audio\n",
        "# Audio(audio,rate=RATE_HZ)"
      ],
      "metadata": {
        "execution": {
          "iopub.status.busy": "2023-09-15T06:25:08.379679Z",
          "iopub.status.idle": "2023-09-15T06:25:08.380610Z",
          "shell.execute_reply.started": "2023-09-15T06:25:08.380321Z",
          "shell.execute_reply": "2023-09-15T06:25:08.380348Z"
        },
        "trusted": true,
        "id": "ymFejaUhi9Ox"
      },
      "execution_count": null,
      "outputs": []
    },
    {
      "cell_type": "markdown",
      "source": [
        "# Send model to Huggingface"
      ],
      "metadata": {
        "id": "Wl486hYTi9Oy"
      }
    },
    {
      "cell_type": "code",
      "source": [
        "# # finally, save the model to Huggingface\n",
        "# from huggingface_hub import notebook_login\n",
        "# notebook_login()"
      ],
      "metadata": {
        "execution": {
          "iopub.status.busy": "2023-09-15T06:25:08.382495Z",
          "iopub.status.idle": "2023-09-15T06:25:08.383504Z",
          "shell.execute_reply.started": "2023-09-15T06:25:08.383204Z",
          "shell.execute_reply": "2023-09-15T06:25:08.383231Z"
        },
        "trusted": true,
        "id": "KGuYagvhi9Oz"
      },
      "execution_count": null,
      "outputs": []
    },
    {
      "cell_type": "code",
      "source": [
        "# from huggingface_hub import HfApi\n",
        "# api = HfApi()\n",
        "# repo_id = f\"thisisjibon/{model_name}\"\n",
        "# try:\n",
        "#     api.create_repo(repo_id)\n",
        "# except:\n",
        "#     print(f\"Repo {repo_id} already exists\")"
      ],
      "metadata": {
        "execution": {
          "iopub.status.busy": "2023-09-15T06:25:08.385388Z",
          "iopub.status.idle": "2023-09-15T06:25:08.386369Z",
          "shell.execute_reply.started": "2023-09-15T06:25:08.386072Z",
          "shell.execute_reply": "2023-09-15T06:25:08.386101Z"
        },
        "trusted": true,
        "id": "b4bMdvFIi9O0"
      },
      "execution_count": null,
      "outputs": []
    },
    {
      "cell_type": "code",
      "source": [
        "# api.upload_folder(\n",
        "#     folder_path=model_name,\n",
        "#     path_in_repo = \".\",\n",
        "#     repo_id=repo_id,\n",
        "#     repo_type=\"model\"\n",
        "# )"
      ],
      "metadata": {
        "execution": {
          "iopub.status.busy": "2023-09-15T06:25:08.388117Z",
          "iopub.status.idle": "2023-09-15T06:25:08.389089Z",
          "shell.execute_reply.started": "2023-09-15T06:25:08.388760Z",
          "shell.execute_reply": "2023-09-15T06:25:08.388787Z"
        },
        "trusted": true,
        "id": "fFuClkxdi9O1"
      },
      "execution_count": null,
      "outputs": []
    }
  ]
}