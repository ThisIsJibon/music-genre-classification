{
 "cells": [
  {
   "cell_type": "code",
   "execution_count": 7,
   "id": "a5e64b8f",
   "metadata": {},
   "outputs": [
    {
     "name": "stdout",
     "output_type": "stream",
     "text": [
      "Spectrograms generated and saved successfully.\n"
     ]
    }
   ],
   "source": [
    "import os\n",
    "import numpy as np\n",
    "import librosa\n",
    "import librosa.display\n",
    "import matplotlib.pyplot as plt\n",
    "\n",
    "INPUT_PATH = r\"C:\\Users\\Asus\\Desktop\\Music-Genre-Classification\\wavs\\rock\"\n",
    "OUTPUT_PATH = r\"E:\\Research\\ML - Machine Learning\\Music Genre Classification\\Spectrogram_Data\\rock\"\n",
    "\n",
    "# Parameters for STFT and spectrogram generation\n",
    "hop_length = 512\n",
    "n_fft = 2048\n",
    "\n",
    "# Create the output folder if it doesn't exist\n",
    "os.makedirs(OUTPUT_PATH, exist_ok=True)\n",
    "\n",
    "# Process WAV files in the genre folder\n",
    "wav_files = [file for file in os.listdir(INPUT_PATH) if file.endswith(\".wav\")]\n",
    "\n",
    "for wav_file in wav_files:\n",
    "    wav_file_path = os.path.join(INPUT_PATH, wav_file)\n",
    "\n",
    "    # Load audio file with Librosa\n",
    "    signal, sample_rate = librosa.load(wav_file_path, sr=22050)\n",
    "\n",
    "    # Calculate the number of segments\n",
    "    segment_duration = 3\n",
    "    num_segments = int(np.ceil(len(signal) / (segment_duration * sample_rate)))\n",
    "\n",
    "    # Generate and save spectrograms for each segment\n",
    "    for i in range(num_segments):\n",
    "        start_sample = i * (segment_duration * sample_rate)\n",
    "        end_sample = start_sample + (segment_duration * sample_rate)\n",
    "        segment_signal = signal[start_sample:end_sample]\n",
    "\n",
    "        # Perform STFT\n",
    "        stft = librosa.stft(segment_signal, n_fft=n_fft, hop_length=hop_length)\n",
    "        spectrogram = np.abs(stft)\n",
    "        log_spectrogram = librosa.amplitude_to_db(spectrogram)\n",
    "\n",
    "        # Display and save spectrogram\n",
    "        plt.figure(figsize=(8, 5))  # Adjust figsize as needed\n",
    "        librosa.display.specshow(log_spectrogram, sr=sample_rate, hop_length=hop_length)\n",
    "        output_image_path = os.path.join(OUTPUT_PATH, f\"{os.path.splitext(wav_file)[0]}_{i + 1}.png\")\n",
    "        plt.savefig(output_image_path, bbox_inches=\"tight\", dpi=150)\n",
    "        plt.close()  # Close the figure to free up memory\n",
    "\n",
    "        # Explicitly trigger garbage collection\n",
    "        import gc\n",
    "        gc.collect()\n",
    "\n",
    "print(\"Spectrograms generated and saved successfully.\")\n"
   ]
  },
  {
   "cell_type": "code",
   "execution_count": 9,
   "id": "252b78ad",
   "metadata": {},
   "outputs": [
    {
     "ename": "FileNotFoundError",
     "evalue": "[WinError 3] The system cannot find the path specified: 'E:\\\\Research\\\\ML - Machine Learning\\\\Music Genre Classification\\\\Spectrogram_Data\\\\test_data'",
     "output_type": "error",
     "traceback": [
      "\u001b[1;31m---------------------------------------------------------------------------\u001b[0m",
      "\u001b[1;31mFileNotFoundError\u001b[0m                         Traceback (most recent call last)",
      "Cell \u001b[1;32mIn[9], line 27\u001b[0m\n\u001b[0;32m     25\u001b[0m \u001b[38;5;66;03m# Loop through each genre folder and move files to the respective directories\u001b[39;00m\n\u001b[0;32m     26\u001b[0m \u001b[38;5;28;01mfor\u001b[39;00m genre_folder \u001b[38;5;129;01min\u001b[39;00m genre_folders:\n\u001b[1;32m---> 27\u001b[0m     genre_files \u001b[38;5;241m=\u001b[39m [os\u001b[38;5;241m.\u001b[39mpath\u001b[38;5;241m.\u001b[39mjoin(genre_folder, filename) \u001b[38;5;28;01mfor\u001b[39;00m filename \u001b[38;5;129;01min\u001b[39;00m \u001b[43mos\u001b[49m\u001b[38;5;241;43m.\u001b[39;49m\u001b[43mlistdir\u001b[49m\u001b[43m(\u001b[49m\u001b[43mgenre_folder\u001b[49m\u001b[43m)\u001b[49m]\n\u001b[0;32m     28\u001b[0m     np\u001b[38;5;241m.\u001b[39mrandom\u001b[38;5;241m.\u001b[39mshuffle(genre_files)\n\u001b[0;32m     30\u001b[0m     num_files \u001b[38;5;241m=\u001b[39m \u001b[38;5;28mlen\u001b[39m(genre_files)\n",
      "\u001b[1;31mFileNotFoundError\u001b[0m: [WinError 3] The system cannot find the path specified: 'E:\\\\Research\\\\ML - Machine Learning\\\\Music Genre Classification\\\\Spectrogram_Data\\\\test_data'"
     ]
    }
   ],
   "source": [
    "import os\n",
    "import shutil\n",
    "import numpy as np\n",
    "\n",
    "# Data path with genre folders\n",
    "data_path = r\"E:\\Research\\ML - Machine Learning\\Music Genre Classification\\Spectrogram_Data\"\n",
    "\n",
    "# List of genre subdirectories\n",
    "genre_folders = [os.path.join(data_path, genre) for genre in os.listdir(data_path) if os.path.isdir(os.path.join(data_path, genre))]\n",
    "\n",
    "# Create directories for train, test, and validation data\n",
    "train_dir = \"train_data\"\n",
    "test_dir = \"test_data\"\n",
    "validate_dir = \"validate_data\"\n",
    "\n",
    "os.makedirs(train_dir, exist_ok=True)\n",
    "os.makedirs(test_dir, exist_ok=True)\n",
    "os.makedirs(validate_dir, exist_ok=True)\n",
    "\n",
    "# Define the split ratios\n",
    "train_ratio = 0.6\n",
    "test_ratio = 0.25\n",
    "validate_ratio = 0.15\n",
    "\n",
    "# Loop through each genre folder and move files to the respective directories\n",
    "for genre_folder in genre_folders:\n",
    "    genre_files = [os.path.join(genre_folder, filename) for filename in os.listdir(genre_folder)]\n",
    "    np.random.shuffle(genre_files)\n",
    "\n",
    "    num_files = len(genre_files)\n",
    "    num_train = int(num_files * train_ratio)\n",
    "    num_test = int(num_files * test_ratio)\n",
    "    num_validate = num_files - num_train - num_test\n",
    "\n",
    "    train_files = genre_files[:num_train]\n",
    "    test_files = genre_files[num_train:num_train + num_test]\n",
    "    validate_files = genre_files[num_train + num_test:]\n",
    "\n",
    "    genre_name = os.path.basename(genre_folder)\n",
    "    \n",
    "    for file_path in train_files:\n",
    "        dest_folder = os.path.join(train_dir, genre_name)\n",
    "        os.makedirs(dest_folder, exist_ok=True)\n",
    "        shutil.copy(file_path, os.path.join(dest_folder, os.path.basename(file_path)))\n",
    "\n",
    "    for file_path in test_files:\n",
    "        dest_folder = os.path.join(test_dir, genre_name)\n",
    "        os.makedirs(dest_folder, exist_ok=True)\n",
    "        shutil.copy(file_path, os.path.join(dest_folder, os.path.basename(file_path)))\n",
    "\n",
    "    for file_path in validate_files:\n",
    "        dest_folder = os.path.join(validate_dir, genre_name)\n",
    "        os.makedirs(dest_folder, exist_ok=True)\n",
    "        shutil.copy(file_path, os.path.join(dest_folder, os.path.basename(file_path)))\n",
    "\n",
    "print(\"Data split and organized into genre-wise train, test, and validate directories.\")\n"
   ]
  },
  {
   "cell_type": "code",
   "execution_count": null,
   "id": "096497f7",
   "metadata": {},
   "outputs": [],
   "source": []
  }
 ],
 "metadata": {
  "kernelspec": {
   "display_name": "Python 3 (ipykernel)",
   "language": "python",
   "name": "python3"
  },
  "language_info": {
   "codemirror_mode": {
    "name": "ipython",
    "version": 3
   },
   "file_extension": ".py",
   "mimetype": "text/x-python",
   "name": "python",
   "nbconvert_exporter": "python",
   "pygments_lexer": "ipython3",
   "version": "3.10.9"
  }
 },
 "nbformat": 4,
 "nbformat_minor": 5
}
